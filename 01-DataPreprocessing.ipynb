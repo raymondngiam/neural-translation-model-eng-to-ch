{
 "cells": [
  {
   "cell_type": "code",
   "execution_count": 1,
   "metadata": {
    "colab": {
     "base_uri": "https://localhost:8080/"
    },
    "executionInfo": {
     "elapsed": 392,
     "status": "ok",
     "timestamp": 1623163667042,
     "user": {
      "displayName": "Raymond Ngiam",
      "photoUrl": "https://lh3.googleusercontent.com/a-/AOh14GjyeB8nVwl4aahdaHXzAfTJ5tfTEuviw8xXhOsl=s64",
      "userId": "11132753723286663537"
     },
     "user_tz": -480
    },
    "id": "qkvB7jVUIhYE",
    "outputId": "195976e8-db81-4724-de5a-7e36f8923a94"
   },
   "outputs": [
    {
     "name": "stdout",
     "output_type": "stream",
     "text": [
      "Drive already mounted at /content/drive; to attempt to forcibly remount, call drive.mount(\"/content/drive\", force_remount=True).\n"
     ]
    }
   ],
   "source": [
    "from google.colab import drive\n",
    "drive.mount('/content/drive')"
   ]
  },
  {
   "cell_type": "code",
   "execution_count": 2,
   "metadata": {
    "executionInfo": {
     "elapsed": 820,
     "status": "ok",
     "timestamp": 1623163668221,
     "user": {
      "displayName": "Raymond Ngiam",
      "photoUrl": "https://lh3.googleusercontent.com/a-/AOh14GjyeB8nVwl4aahdaHXzAfTJ5tfTEuviw8xXhOsl=s64",
      "userId": "11132753723286663537"
     },
     "user_tz": -480
    },
    "id": "wI2nMf2ZIl8V"
   },
   "outputs": [],
   "source": [
    "googleDrivePathPrefix = 'drive/My Drive/Colab Notebooks'"
   ]
  },
  {
   "cell_type": "code",
   "execution_count": 3,
   "metadata": {
    "executionInfo": {
     "elapsed": 89,
     "status": "ok",
     "timestamp": 1623163668222,
     "user": {
      "displayName": "Raymond Ngiam",
      "photoUrl": "https://lh3.googleusercontent.com/a-/AOh14GjyeB8nVwl4aahdaHXzAfTJ5tfTEuviw8xXhOsl=s64",
      "userId": "11132753723286663537"
     },
     "user_tz": -480
    },
    "id": "UVAj1fb2JnIQ"
   },
   "outputs": [],
   "source": [
    "from os import path\n",
    "import re\n",
    "import pandas as pd\n",
    "import numpy as np\n"
   ]
  },
  {
   "cell_type": "code",
   "execution_count": 4,
   "metadata": {
    "executionInfo": {
     "elapsed": 87,
     "status": "ok",
     "timestamp": 1623163668223,
     "user": {
      "displayName": "Raymond Ngiam",
      "photoUrl": "https://lh3.googleusercontent.com/a-/AOh14GjyeB8nVwl4aahdaHXzAfTJ5tfTEuviw8xXhOsl=s64",
      "userId": "11132753723286663537"
     },
     "user_tz": -480
    },
    "id": "UQpuAdPWWF_D"
   },
   "outputs": [],
   "source": [
    "data_examples = []\n",
    "with open(path.join(googleDrivePathPrefix,'data/cmn.txt'), 'r',encoding='utf8') as f:\n",
    "  for line in f.readlines():\n",
    "    data_examples.append(line)"
   ]
  },
  {
   "cell_type": "code",
   "execution_count": 5,
   "metadata": {
    "executionInfo": {
     "elapsed": 85,
     "status": "ok",
     "timestamp": 1623163668224,
     "user": {
      "displayName": "Raymond Ngiam",
      "photoUrl": "https://lh3.googleusercontent.com/a-/AOh14GjyeB8nVwl4aahdaHXzAfTJ5tfTEuviw8xXhOsl=s64",
      "userId": "11132753723286663537"
     },
     "user_tz": -480
    },
    "id": "dOx72P4zWbvu"
   },
   "outputs": [],
   "source": [
    "english=[]\n",
    "chinese=[]\n",
    "for data in data_examples:\n",
    "  splits=re.split('\\t',data)\n",
    "  english.append(splits[0])\n",
    "  chinese.append(splits[1])"
   ]
  },
  {
   "cell_type": "code",
   "execution_count": 6,
   "metadata": {
    "executionInfo": {
     "elapsed": 83,
     "status": "ok",
     "timestamp": 1623163668224,
     "user": {
      "displayName": "Raymond Ngiam",
      "photoUrl": "https://lh3.googleusercontent.com/a-/AOh14GjyeB8nVwl4aahdaHXzAfTJ5tfTEuviw8xXhOsl=s64",
      "userId": "11132753723286663537"
     },
     "user_tz": -480
    },
    "id": "2TA38GEZWxz_"
   },
   "outputs": [],
   "source": [
    "df = pd.DataFrame(data={'english':english,'chinese':chinese})"
   ]
  },
  {
   "cell_type": "code",
   "execution_count": 7,
   "metadata": {
    "colab": {
     "base_uri": "https://localhost:8080/",
     "height": 206
    },
    "executionInfo": {
     "elapsed": 81,
     "status": "ok",
     "timestamp": 1623163668225,
     "user": {
      "displayName": "Raymond Ngiam",
      "photoUrl": "https://lh3.googleusercontent.com/a-/AOh14GjyeB8nVwl4aahdaHXzAfTJ5tfTEuviw8xXhOsl=s64",
      "userId": "11132753723286663537"
     },
     "user_tz": -480
    },
    "id": "yn7RLCNYXLPI",
    "outputId": "56ce117f-9289-43ff-98d1-44807d08d4f0"
   },
   "outputs": [
    {
     "data": {
      "text/html": [
       "<div>\n",
       "<style scoped>\n",
       "    .dataframe tbody tr th:only-of-type {\n",
       "        vertical-align: middle;\n",
       "    }\n",
       "\n",
       "    .dataframe tbody tr th {\n",
       "        vertical-align: top;\n",
       "    }\n",
       "\n",
       "    .dataframe thead th {\n",
       "        text-align: right;\n",
       "    }\n",
       "</style>\n",
       "<table border=\"1\" class=\"dataframe\">\n",
       "  <thead>\n",
       "    <tr style=\"text-align: right;\">\n",
       "      <th></th>\n",
       "      <th>english</th>\n",
       "      <th>chinese</th>\n",
       "    </tr>\n",
       "  </thead>\n",
       "  <tbody>\n",
       "    <tr>\n",
       "      <th>0</th>\n",
       "      <td>Hi.</td>\n",
       "      <td>嗨。</td>\n",
       "    </tr>\n",
       "    <tr>\n",
       "      <th>1</th>\n",
       "      <td>Hi.</td>\n",
       "      <td>你好。</td>\n",
       "    </tr>\n",
       "    <tr>\n",
       "      <th>2</th>\n",
       "      <td>Run.</td>\n",
       "      <td>你用跑的。</td>\n",
       "    </tr>\n",
       "    <tr>\n",
       "      <th>3</th>\n",
       "      <td>Wait!</td>\n",
       "      <td>等等！</td>\n",
       "    </tr>\n",
       "    <tr>\n",
       "      <th>4</th>\n",
       "      <td>Wait!</td>\n",
       "      <td>等一下！</td>\n",
       "    </tr>\n",
       "  </tbody>\n",
       "</table>\n",
       "</div>"
      ],
      "text/plain": [
       "  english chinese\n",
       "0     Hi.      嗨。\n",
       "1     Hi.     你好。\n",
       "2    Run.   你用跑的。\n",
       "3   Wait!     等等！\n",
       "4   Wait!    等一下！"
      ]
     },
     "execution_count": 7,
     "metadata": {
      "tags": []
     },
     "output_type": "execute_result"
    }
   ],
   "source": [
    "df.head()"
   ]
  },
  {
   "cell_type": "code",
   "execution_count": 8,
   "metadata": {
    "colab": {
     "base_uri": "https://localhost:8080/"
    },
    "executionInfo": {
     "elapsed": 74,
     "status": "ok",
     "timestamp": 1623163668225,
     "user": {
      "displayName": "Raymond Ngiam",
      "photoUrl": "https://lh3.googleusercontent.com/a-/AOh14GjyeB8nVwl4aahdaHXzAfTJ5tfTEuviw8xXhOsl=s64",
      "userId": "11132753723286663537"
     },
     "user_tz": -480
    },
    "id": "DDORjog6Zx_Y",
    "outputId": "a631b777-5993-4c2b-db03-7a982622aaed"
   },
   "outputs": [
    {
     "data": {
      "text/plain": [
       "english    24697\n",
       "chinese    24697\n",
       "dtype: int64"
      ]
     },
     "execution_count": 8,
     "metadata": {
      "tags": []
     },
     "output_type": "execute_result"
    }
   ],
   "source": [
    "df.count()"
   ]
  },
  {
   "cell_type": "markdown",
   "metadata": {
    "id": "UIsbzErxXqZg"
   },
   "source": [
    "Filter texts with quotation marks `\"`\n",
    "\n",
    "- The intention is to remove cases where there is conversational nature in the the sentence, e.g."
   ]
  },
  {
   "cell_type": "code",
   "execution_count": 9,
   "metadata": {
    "colab": {
     "base_uri": "https://localhost:8080/"
    },
    "executionInfo": {
     "elapsed": 61,
     "status": "ok",
     "timestamp": 1623163668226,
     "user": {
      "displayName": "Raymond Ngiam",
      "photoUrl": "https://lh3.googleusercontent.com/a-/AOh14GjyeB8nVwl4aahdaHXzAfTJ5tfTEuviw8xXhOsl=s64",
      "userId": "11132753723286663537"
     },
     "user_tz": -480
    },
    "id": "fJxWpWkubC8y",
    "outputId": "73dfd18e-80f3-431d-f8fe-03356d57204c"
   },
   "outputs": [
    {
     "data": {
      "text/plain": [
       "english    \"Is that Tom calling again?\" \"Yes. He calls ev...\n",
       "chinese            “又是汤姆的电话？” “嗯。最近他每天晚上都会打过来。当时就不该给他我的号码的。”\n",
       "Name: 24690, dtype: object"
      ]
     },
     "execution_count": 9,
     "metadata": {
      "tags": []
     },
     "output_type": "execute_result"
    }
   ],
   "source": [
    "df.loc[24690]"
   ]
  },
  {
   "cell_type": "code",
   "execution_count": 10,
   "metadata": {
    "colab": {
     "base_uri": "https://localhost:8080/"
    },
    "executionInfo": {
     "elapsed": 58,
     "status": "ok",
     "timestamp": 1623163668227,
     "user": {
      "displayName": "Raymond Ngiam",
      "photoUrl": "https://lh3.googleusercontent.com/a-/AOh14GjyeB8nVwl4aahdaHXzAfTJ5tfTEuviw8xXhOsl=s64",
      "userId": "11132753723286663537"
     },
     "user_tz": -480
    },
    "id": "LztS85v8Xpqz",
    "outputId": "995d2d92-0522-4f1b-9fe7-28ad7510c3f7"
   },
   "outputs": [
    {
     "name": "stdout",
     "output_type": "stream",
     "text": [
      "Conversational example counts: 60\n"
     ]
    }
   ],
   "source": [
    "conversational_sample_mask = df['english'].str.contains('\" \"')\n",
    "print(f'Conversational example counts: {conversational_sample_mask.sum()}')"
   ]
  },
  {
   "cell_type": "code",
   "execution_count": 11,
   "metadata": {
    "colab": {
     "base_uri": "https://localhost:8080/",
     "height": 206
    },
    "executionInfo": {
     "elapsed": 54,
     "status": "ok",
     "timestamp": 1623163668228,
     "user": {
      "displayName": "Raymond Ngiam",
      "photoUrl": "https://lh3.googleusercontent.com/a-/AOh14GjyeB8nVwl4aahdaHXzAfTJ5tfTEuviw8xXhOsl=s64",
      "userId": "11132753723286663537"
     },
     "user_tz": -480
    },
    "id": "pNYwuN3FYnyz",
    "outputId": "c447db04-f677-4d4c-814f-4be73c1e7af2"
   },
   "outputs": [
    {
     "data": {
      "text/html": [
       "<div>\n",
       "<style scoped>\n",
       "    .dataframe tbody tr th:only-of-type {\n",
       "        vertical-align: middle;\n",
       "    }\n",
       "\n",
       "    .dataframe tbody tr th {\n",
       "        vertical-align: top;\n",
       "    }\n",
       "\n",
       "    .dataframe thead th {\n",
       "        text-align: right;\n",
       "    }\n",
       "</style>\n",
       "<table border=\"1\" class=\"dataframe\">\n",
       "  <thead>\n",
       "    <tr style=\"text-align: right;\">\n",
       "      <th></th>\n",
       "      <th>english</th>\n",
       "      <th>chinese</th>\n",
       "    </tr>\n",
       "  </thead>\n",
       "  <tbody>\n",
       "    <tr>\n",
       "      <th>9689</th>\n",
       "      <td>\"More coffee?\" \"No, thanks.\"</td>\n",
       "      <td>“还要咖啡吗？”“不了，谢谢。”</td>\n",
       "    </tr>\n",
       "    <tr>\n",
       "      <th>10702</th>\n",
       "      <td>\"She likes music.\" \"So do I.\"</td>\n",
       "      <td>“她喜欢音乐。”“我也是。”</td>\n",
       "    </tr>\n",
       "    <tr>\n",
       "      <th>11583</th>\n",
       "      <td>\"I like traveling.\" \"So do I.\"</td>\n",
       "      <td>“我喜欢旅游。“ ”我也是。“</td>\n",
       "    </tr>\n",
       "    <tr>\n",
       "      <th>11584</th>\n",
       "      <td>\"Who is in the car?\" \"Tom is.\"</td>\n",
       "      <td>“谁在车里？” “汤姆。”</td>\n",
       "    </tr>\n",
       "    <tr>\n",
       "      <th>14101</th>\n",
       "      <td>\"What's in that box?\" \"Nothing.\"</td>\n",
       "      <td>“盒子里有什么？”“什么都没有。”</td>\n",
       "    </tr>\n",
       "  </tbody>\n",
       "</table>\n",
       "</div>"
      ],
      "text/plain": [
       "                                english            chinese\n",
       "9689       \"More coffee?\" \"No, thanks.\"   “还要咖啡吗？”“不了，谢谢。”\n",
       "10702     \"She likes music.\" \"So do I.\"     “她喜欢音乐。”“我也是。”\n",
       "11583    \"I like traveling.\" \"So do I.\"    “我喜欢旅游。“ ”我也是。“\n",
       "11584    \"Who is in the car?\" \"Tom is.\"      “谁在车里？” “汤姆。”\n",
       "14101  \"What's in that box?\" \"Nothing.\"  “盒子里有什么？”“什么都没有。”"
      ]
     },
     "execution_count": 11,
     "metadata": {
      "tags": []
     },
     "output_type": "execute_result"
    }
   ],
   "source": [
    "df_conversational_samples = df[conversational_sample_mask]\n",
    "df_conversational_samples.head()"
   ]
  },
  {
   "cell_type": "code",
   "execution_count": 12,
   "metadata": {
    "colab": {
     "base_uri": "https://localhost:8080/"
    },
    "executionInfo": {
     "elapsed": 53,
     "status": "ok",
     "timestamp": 1623163668230,
     "user": {
      "displayName": "Raymond Ngiam",
      "photoUrl": "https://lh3.googleusercontent.com/a-/AOh14GjyeB8nVwl4aahdaHXzAfTJ5tfTEuviw8xXhOsl=s64",
      "userId": "11132753723286663537"
     },
     "user_tz": -480
    },
    "id": "YXibc2VAafO8",
    "outputId": "cb67dc5e-000a-4eb9-81b2-5d083947f5b7"
   },
   "outputs": [
    {
     "name": "stdout",
     "output_type": "stream",
     "text": [
      "Data sample counts (filtered conversations):\n",
      "english    24637\n",
      "chinese    24637\n",
      "dtype: int64\n"
     ]
    }
   ],
   "source": [
    "df_filtered_conversation = df[~conversational_sample_mask]\n",
    "print(f'Data sample counts (filtered conversations):\\n{df_filtered_conversation.count()}')"
   ]
  },
  {
   "cell_type": "code",
   "execution_count": 13,
   "metadata": {
    "colab": {
     "base_uri": "https://localhost:8080/",
     "height": 206
    },
    "executionInfo": {
     "elapsed": 50,
     "status": "ok",
     "timestamp": 1623163668231,
     "user": {
      "displayName": "Raymond Ngiam",
      "photoUrl": "https://lh3.googleusercontent.com/a-/AOh14GjyeB8nVwl4aahdaHXzAfTJ5tfTEuviw8xXhOsl=s64",
      "userId": "11132753723286663537"
     },
     "user_tz": -480
    },
    "id": "aUNivw7OcYgi",
    "outputId": "5e4fd704-f239-4d49-bad4-3dc9755fa2fd"
   },
   "outputs": [
    {
     "data": {
      "text/html": [
       "<div>\n",
       "<style scoped>\n",
       "    .dataframe tbody tr th:only-of-type {\n",
       "        vertical-align: middle;\n",
       "    }\n",
       "\n",
       "    .dataframe tbody tr th {\n",
       "        vertical-align: top;\n",
       "    }\n",
       "\n",
       "    .dataframe thead th {\n",
       "        text-align: right;\n",
       "    }\n",
       "</style>\n",
       "<table border=\"1\" class=\"dataframe\">\n",
       "  <thead>\n",
       "    <tr style=\"text-align: right;\">\n",
       "      <th></th>\n",
       "      <th>english</th>\n",
       "      <th>chinese</th>\n",
       "    </tr>\n",
       "  </thead>\n",
       "  <tbody>\n",
       "    <tr>\n",
       "      <th>6294</th>\n",
       "      <td>He turned down my offer.</td>\n",
       "      <td>他拒絕了我的提議。</td>\n",
       "    </tr>\n",
       "    <tr>\n",
       "      <th>17713</th>\n",
       "      <td>I wonder which way is the shortest.</td>\n",
       "      <td>我想知道哪一條路是最短的。</td>\n",
       "    </tr>\n",
       "    <tr>\n",
       "      <th>19272</th>\n",
       "      <td>She substituted margarine for butter.</td>\n",
       "      <td>她用人造黄油代替了黄油。</td>\n",
       "    </tr>\n",
       "    <tr>\n",
       "      <th>20698</th>\n",
       "      <td>The meaning of this sentence is obscure.</td>\n",
       "      <td>这句句子意思模糊。</td>\n",
       "    </tr>\n",
       "    <tr>\n",
       "      <th>9805</th>\n",
       "      <td>He has more books than I do.</td>\n",
       "      <td>他拥有的书比我的多。</td>\n",
       "    </tr>\n",
       "  </tbody>\n",
       "</table>\n",
       "</div>"
      ],
      "text/plain": [
       "                                        english        chinese\n",
       "6294                   He turned down my offer.      他拒絕了我的提議。\n",
       "17713       I wonder which way is the shortest.  我想知道哪一條路是最短的。\n",
       "19272     She substituted margarine for butter.   她用人造黄油代替了黄油。\n",
       "20698  The meaning of this sentence is obscure.      这句句子意思模糊。\n",
       "9805               He has more books than I do.     他拥有的书比我的多。"
      ]
     },
     "execution_count": 13,
     "metadata": {
      "tags": []
     },
     "output_type": "execute_result"
    }
   ],
   "source": [
    "df_filtered_conversation.sample(5)"
   ]
  },
  {
   "cell_type": "markdown",
   "metadata": {
    "id": "Y-EYXQ9BiSQc"
   },
   "source": [
    "Filter chinese text with english characters, numbers and non-essential punctuation marks excluding `[。，？！]`.\n",
    "\n",
    "- To simplify separating individual characters in chinese texts, we filter out samples with english characters, numbers, and non-essential punctuation marks.\n",
    "- Thus, we can simply split each character in the chinese texts and treat them as individual chinese character or punctuation mark."
   ]
  },
  {
   "cell_type": "code",
   "execution_count": 14,
   "metadata": {
    "colab": {
     "base_uri": "https://localhost:8080/"
    },
    "executionInfo": {
     "elapsed": 49,
     "status": "ok",
     "timestamp": 1623163668232,
     "user": {
      "displayName": "Raymond Ngiam",
      "photoUrl": "https://lh3.googleusercontent.com/a-/AOh14GjyeB8nVwl4aahdaHXzAfTJ5tfTEuviw8xXhOsl=s64",
      "userId": "11132753723286663537"
     },
     "user_tz": -480
    },
    "id": "NJjSqJHVi7dl",
    "outputId": "60fb246b-a96a-4047-f75c-3a510ee6a8df"
   },
   "outputs": [
    {
     "data": {
      "text/plain": [
       "607"
      ]
     },
     "execution_count": 14,
     "metadata": {
      "tags": []
     },
     "output_type": "execute_result"
    }
   ],
   "source": [
    "chinese_with_eng_char_sample_mask = df['chinese'].str.contains(\"[A-Za-z0-9\\-/•（）《》「」“”\\[\\]\\\"]\")\n",
    "chinese_with_eng_char_sample_mask.sum()"
   ]
  },
  {
   "cell_type": "code",
   "execution_count": 15,
   "metadata": {
    "colab": {
     "base_uri": "https://localhost:8080/",
     "height": 242
    },
    "executionInfo": {
     "elapsed": 46,
     "status": "ok",
     "timestamp": 1623163668233,
     "user": {
      "displayName": "Raymond Ngiam",
      "photoUrl": "https://lh3.googleusercontent.com/a-/AOh14GjyeB8nVwl4aahdaHXzAfTJ5tfTEuviw8xXhOsl=s64",
      "userId": "11132753723286663537"
     },
     "user_tz": -480
    },
    "id": "0TiSVgSYjnfG",
    "outputId": "28c698f1-f79b-4f69-e94b-8920563dabfc"
   },
   "outputs": [
    {
     "name": "stderr",
     "output_type": "stream",
     "text": [
      "/usr/local/lib/python3.7/dist-packages/ipykernel_launcher.py:1: UserWarning: Boolean Series key will be reindexed to match DataFrame index.\n",
      "  \"\"\"Entry point for launching an IPython kernel.\n"
     ]
    },
    {
     "data": {
      "text/html": [
       "<div>\n",
       "<style scoped>\n",
       "    .dataframe tbody tr th:only-of-type {\n",
       "        vertical-align: middle;\n",
       "    }\n",
       "\n",
       "    .dataframe tbody tr th {\n",
       "        vertical-align: top;\n",
       "    }\n",
       "\n",
       "    .dataframe thead th {\n",
       "        text-align: right;\n",
       "    }\n",
       "</style>\n",
       "<table border=\"1\" class=\"dataframe\">\n",
       "  <thead>\n",
       "    <tr style=\"text-align: right;\">\n",
       "      <th></th>\n",
       "      <th>english</th>\n",
       "      <th>chinese</th>\n",
       "    </tr>\n",
       "  </thead>\n",
       "  <tbody>\n",
       "    <tr>\n",
       "      <th>17441</th>\n",
       "      <td>He arrived at the station at seven.</td>\n",
       "      <td>他7点到了火车站。</td>\n",
       "    </tr>\n",
       "    <tr>\n",
       "      <th>20372</th>\n",
       "      <td>Water freezes at 32 degrees Fahrenheit.</td>\n",
       "      <td>水在華氏32度結成冰。</td>\n",
       "    </tr>\n",
       "    <tr>\n",
       "      <th>22596</th>\n",
       "      <td>\"A rolling stone gathers no moss\" is a proverb.</td>\n",
       "      <td>“滚石不生苔”是一句谚语。</td>\n",
       "    </tr>\n",
       "    <tr>\n",
       "      <th>13906</th>\n",
       "      <td>Tom's house has three bedrooms.</td>\n",
       "      <td>Tom的房子有三個房間。</td>\n",
       "    </tr>\n",
       "    <tr>\n",
       "      <th>18376</th>\n",
       "      <td>CDs have taken the place of records.</td>\n",
       "      <td>CD已经取代了胶木唱片。</td>\n",
       "    </tr>\n",
       "  </tbody>\n",
       "</table>\n",
       "</div>"
      ],
      "text/plain": [
       "                                               english        chinese\n",
       "17441              He arrived at the station at seven.      他7点到了火车站。\n",
       "20372          Water freezes at 32 degrees Fahrenheit.    水在華氏32度結成冰。\n",
       "22596  \"A rolling stone gathers no moss\" is a proverb.  “滚石不生苔”是一句谚语。\n",
       "13906                  Tom's house has three bedrooms.   Tom的房子有三個房間。\n",
       "18376             CDs have taken the place of records.   CD已经取代了胶木唱片。"
      ]
     },
     "execution_count": 15,
     "metadata": {
      "tags": []
     },
     "output_type": "execute_result"
    }
   ],
   "source": [
    "df_chinese_with_eng_char_sample = df_filtered_conversation[chinese_with_eng_char_sample_mask]\n",
    "df_chinese_with_eng_char_sample.sample(5)"
   ]
  },
  {
   "cell_type": "code",
   "execution_count": 16,
   "metadata": {
    "colab": {
     "base_uri": "https://localhost:8080/"
    },
    "executionInfo": {
     "elapsed": 42,
     "status": "ok",
     "timestamp": 1623163668233,
     "user": {
      "displayName": "Raymond Ngiam",
      "photoUrl": "https://lh3.googleusercontent.com/a-/AOh14GjyeB8nVwl4aahdaHXzAfTJ5tfTEuviw8xXhOsl=s64",
      "userId": "11132753723286663537"
     },
     "user_tz": -480
    },
    "id": "kVlYLFdNkQ9Z",
    "outputId": "0e7c40dd-2df6-400b-ebf9-9384756c8ba0"
   },
   "outputs": [
    {
     "name": "stdout",
     "output_type": "stream",
     "text": [
      "Data sample counts (filtered chinese text with english characters):\n",
      "english    24089\n",
      "chinese    24089\n",
      "dtype: int64\n"
     ]
    },
    {
     "name": "stderr",
     "output_type": "stream",
     "text": [
      "/usr/local/lib/python3.7/dist-packages/ipykernel_launcher.py:1: UserWarning: Boolean Series key will be reindexed to match DataFrame index.\n",
      "  \"\"\"Entry point for launching an IPython kernel.\n"
     ]
    }
   ],
   "source": [
    "df_filtered_final = df_filtered_conversation[~chinese_with_eng_char_sample_mask]\n",
    "print(f'Data sample counts (filtered chinese text with english characters):\\n{df_filtered_final.count()}')"
   ]
  },
  {
   "cell_type": "code",
   "execution_count": 17,
   "metadata": {
    "colab": {
     "base_uri": "https://localhost:8080/",
     "height": 206
    },
    "executionInfo": {
     "elapsed": 39,
     "status": "ok",
     "timestamp": 1623163668233,
     "user": {
      "displayName": "Raymond Ngiam",
      "photoUrl": "https://lh3.googleusercontent.com/a-/AOh14GjyeB8nVwl4aahdaHXzAfTJ5tfTEuviw8xXhOsl=s64",
      "userId": "11132753723286663537"
     },
     "user_tz": -480
    },
    "id": "N0JzenTpknRa",
    "outputId": "4973984f-38d9-4f3b-9fea-d6cd9d44d93c"
   },
   "outputs": [
    {
     "data": {
      "text/html": [
       "<div>\n",
       "<style scoped>\n",
       "    .dataframe tbody tr th:only-of-type {\n",
       "        vertical-align: middle;\n",
       "    }\n",
       "\n",
       "    .dataframe tbody tr th {\n",
       "        vertical-align: top;\n",
       "    }\n",
       "\n",
       "    .dataframe thead th {\n",
       "        text-align: right;\n",
       "    }\n",
       "</style>\n",
       "<table border=\"1\" class=\"dataframe\">\n",
       "  <thead>\n",
       "    <tr style=\"text-align: right;\">\n",
       "      <th></th>\n",
       "      <th>english</th>\n",
       "      <th>chinese</th>\n",
       "    </tr>\n",
       "  </thead>\n",
       "  <tbody>\n",
       "    <tr>\n",
       "      <th>19136</th>\n",
       "      <td>I was given a nice watch by my uncle.</td>\n",
       "      <td>我叔叔给了我一块漂亮的手表。</td>\n",
       "    </tr>\n",
       "    <tr>\n",
       "      <th>10092</th>\n",
       "      <td>I wish I were a good singer.</td>\n",
       "      <td>但願我是一個好歌手。</td>\n",
       "    </tr>\n",
       "    <tr>\n",
       "      <th>9215</th>\n",
       "      <td>It was a great shock to me.</td>\n",
       "      <td>這對我是很大的震撼。</td>\n",
       "    </tr>\n",
       "    <tr>\n",
       "      <th>18108</th>\n",
       "      <td>They all looked for the lost child.</td>\n",
       "      <td>他們都在尋找這個走失的孩子。</td>\n",
       "    </tr>\n",
       "    <tr>\n",
       "      <th>24402</th>\n",
       "      <td>In case the shipment is delayed, we have speci...</td>\n",
       "      <td>万一船运迟了，我们有特别的迟到保险。</td>\n",
       "    </tr>\n",
       "  </tbody>\n",
       "</table>\n",
       "</div>"
      ],
      "text/plain": [
       "                                                 english             chinese\n",
       "19136              I was given a nice watch by my uncle.      我叔叔给了我一块漂亮的手表。\n",
       "10092                       I wish I were a good singer.          但願我是一個好歌手。\n",
       "9215                         It was a great shock to me.          這對我是很大的震撼。\n",
       "18108                They all looked for the lost child.      他們都在尋找這個走失的孩子。\n",
       "24402  In case the shipment is delayed, we have speci...  万一船运迟了，我们有特别的迟到保险。"
      ]
     },
     "execution_count": 17,
     "metadata": {
      "tags": []
     },
     "output_type": "execute_result"
    }
   ],
   "source": [
    "df_filtered_final.sample(5)"
   ]
  },
  {
   "cell_type": "markdown",
   "metadata": {
    "id": "2LupHefp7dYs"
   },
   "source": [
    "Replace chinese text with ascii punctuation marks, e.g. `[.,?!]` with chinese unicode punctuation marks `[。，？！]`."
   ]
  },
  {
   "cell_type": "code",
   "execution_count": 18,
   "metadata": {
    "colab": {
     "base_uri": "https://localhost:8080/"
    },
    "executionInfo": {
     "elapsed": 37,
     "status": "ok",
     "timestamp": 1623163668234,
     "user": {
      "displayName": "Raymond Ngiam",
      "photoUrl": "https://lh3.googleusercontent.com/a-/AOh14GjyeB8nVwl4aahdaHXzAfTJ5tfTEuviw8xXhOsl=s64",
      "userId": "11132753723286663537"
     },
     "user_tz": -480
    },
    "id": "2UXV6624rcvO",
    "outputId": "731a0826-886f-4ccb-86dd-f33bc8f66462"
   },
   "outputs": [
    {
     "data": {
      "text/plain": [
       "587"
      ]
     },
     "execution_count": 18,
     "metadata": {
      "tags": []
     },
     "output_type": "execute_result"
    }
   ],
   "source": [
    "chinese_with_ascii_punctuation_mask = df_filtered_final['chinese'].str.contains(\"[?.!,]\")\n",
    "chinese_with_ascii_punctuation_mask.sum()"
   ]
  },
  {
   "cell_type": "code",
   "execution_count": 19,
   "metadata": {
    "colab": {
     "base_uri": "https://localhost:8080/",
     "height": 206
    },
    "executionInfo": {
     "elapsed": 36,
     "status": "ok",
     "timestamp": 1623163668235,
     "user": {
      "displayName": "Raymond Ngiam",
      "photoUrl": "https://lh3.googleusercontent.com/a-/AOh14GjyeB8nVwl4aahdaHXzAfTJ5tfTEuviw8xXhOsl=s64",
      "userId": "11132753723286663537"
     },
     "user_tz": -480
    },
    "id": "Om9x1OH_rxal",
    "outputId": "f4ffb10e-8cbf-4aca-8d35-b3170eb458e8"
   },
   "outputs": [
    {
     "data": {
      "text/html": [
       "<div>\n",
       "<style scoped>\n",
       "    .dataframe tbody tr th:only-of-type {\n",
       "        vertical-align: middle;\n",
       "    }\n",
       "\n",
       "    .dataframe tbody tr th {\n",
       "        vertical-align: top;\n",
       "    }\n",
       "\n",
       "    .dataframe thead th {\n",
       "        text-align: right;\n",
       "    }\n",
       "</style>\n",
       "<table border=\"1\" class=\"dataframe\">\n",
       "  <thead>\n",
       "    <tr style=\"text-align: right;\">\n",
       "      <th></th>\n",
       "      <th>english</th>\n",
       "      <th>chinese</th>\n",
       "    </tr>\n",
       "  </thead>\n",
       "  <tbody>\n",
       "    <tr>\n",
       "      <th>23809</th>\n",
       "      <td>If you are not going to the concert, then neit...</td>\n",
       "      <td>如果你不去音樂會, 我也不去。</td>\n",
       "    </tr>\n",
       "    <tr>\n",
       "      <th>7992</th>\n",
       "      <td>Does he have any brothers?</td>\n",
       "      <td>他有任何的兄弟嗎?</td>\n",
       "    </tr>\n",
       "    <tr>\n",
       "      <th>6326</th>\n",
       "      <td>How's the weather there?</td>\n",
       "      <td>那里的气候怎么样?</td>\n",
       "    </tr>\n",
       "    <tr>\n",
       "      <th>753</th>\n",
       "      <td>How about you?</td>\n",
       "      <td>那你呢?</td>\n",
       "    </tr>\n",
       "    <tr>\n",
       "      <th>4679</th>\n",
       "      <td>Don't you play tennis?</td>\n",
       "      <td>你不打網球嗎?</td>\n",
       "    </tr>\n",
       "  </tbody>\n",
       "</table>\n",
       "</div>"
      ],
      "text/plain": [
       "                                                 english          chinese\n",
       "23809  If you are not going to the concert, then neit...  如果你不去音樂會, 我也不去。\n",
       "7992                          Does he have any brothers?        他有任何的兄弟嗎?\n",
       "6326                            How's the weather there?        那里的气候怎么样?\n",
       "753                                       How about you?             那你呢?\n",
       "4679                              Don't you play tennis?          你不打網球嗎?"
      ]
     },
     "execution_count": 19,
     "metadata": {
      "tags": []
     },
     "output_type": "execute_result"
    }
   ],
   "source": [
    "df_chinese_with_ascii_punct = df_filtered_final[chinese_with_ascii_punctuation_mask]\n",
    "ind = np.random.choice(df_chinese_with_ascii_punct.index,5)\n",
    "df_chinese_with_ascii_punct.loc[ind[:]]"
   ]
  },
  {
   "cell_type": "code",
   "execution_count": 20,
   "metadata": {
    "executionInfo": {
     "elapsed": 34,
     "status": "ok",
     "timestamp": 1623163668236,
     "user": {
      "displayName": "Raymond Ngiam",
      "photoUrl": "https://lh3.googleusercontent.com/a-/AOh14GjyeB8nVwl4aahdaHXzAfTJ5tfTEuviw8xXhOsl=s64",
      "userId": "11132753723286663537"
     },
     "user_tz": -480
    },
    "id": "mRtXv7BRw9r2"
   },
   "outputs": [],
   "source": [
    "def replace_punct(sentence):\n",
    "  sentence = re.sub(r\"[?]\", r\"？\", sentence)\n",
    "  sentence = re.sub(r\"[.]\", r\"。\", sentence)\n",
    "  sentence = re.sub(r\"[!]\", r\"！\", sentence)\n",
    "  sentence = re.sub(r\"[,]\", r\"，\", sentence)\n",
    "  return sentence"
   ]
  },
  {
   "cell_type": "code",
   "execution_count": 21,
   "metadata": {
    "colab": {
     "base_uri": "https://localhost:8080/",
     "height": 315
    },
    "executionInfo": {
     "elapsed": 392,
     "status": "ok",
     "timestamp": 1623163668593,
     "user": {
      "displayName": "Raymond Ngiam",
      "photoUrl": "https://lh3.googleusercontent.com/a-/AOh14GjyeB8nVwl4aahdaHXzAfTJ5tfTEuviw8xXhOsl=s64",
      "userId": "11132753723286663537"
     },
     "user_tz": -480
    },
    "id": "9dTkE8h8sGdA",
    "outputId": "e351e917-26e9-44e9-b3d7-2c6ec78835c4"
   },
   "outputs": [
    {
     "name": "stderr",
     "output_type": "stream",
     "text": [
      "/usr/local/lib/python3.7/dist-packages/ipykernel_launcher.py:2: SettingWithCopyWarning: \n",
      "A value is trying to be set on a copy of a slice from a DataFrame.\n",
      "Try using .loc[row_indexer,col_indexer] = value instead\n",
      "\n",
      "See the caveats in the documentation: https://pandas.pydata.org/pandas-docs/stable/user_guide/indexing.html#returning-a-view-versus-a-copy\n",
      "  \n"
     ]
    },
    {
     "data": {
      "text/html": [
       "<div>\n",
       "<style scoped>\n",
       "    .dataframe tbody tr th:only-of-type {\n",
       "        vertical-align: middle;\n",
       "    }\n",
       "\n",
       "    .dataframe tbody tr th {\n",
       "        vertical-align: top;\n",
       "    }\n",
       "\n",
       "    .dataframe thead th {\n",
       "        text-align: right;\n",
       "    }\n",
       "</style>\n",
       "<table border=\"1\" class=\"dataframe\">\n",
       "  <thead>\n",
       "    <tr style=\"text-align: right;\">\n",
       "      <th></th>\n",
       "      <th>english</th>\n",
       "      <th>chinese</th>\n",
       "    </tr>\n",
       "  </thead>\n",
       "  <tbody>\n",
       "    <tr>\n",
       "      <th>23809</th>\n",
       "      <td>If you are not going to the concert, then neit...</td>\n",
       "      <td>如果你不去音樂會， 我也不去。</td>\n",
       "    </tr>\n",
       "    <tr>\n",
       "      <th>7992</th>\n",
       "      <td>Does he have any brothers?</td>\n",
       "      <td>他有任何的兄弟嗎？</td>\n",
       "    </tr>\n",
       "    <tr>\n",
       "      <th>6326</th>\n",
       "      <td>How's the weather there?</td>\n",
       "      <td>那里的气候怎么样？</td>\n",
       "    </tr>\n",
       "    <tr>\n",
       "      <th>753</th>\n",
       "      <td>How about you?</td>\n",
       "      <td>那你呢？</td>\n",
       "    </tr>\n",
       "    <tr>\n",
       "      <th>4679</th>\n",
       "      <td>Don't you play tennis?</td>\n",
       "      <td>你不打網球嗎？</td>\n",
       "    </tr>\n",
       "  </tbody>\n",
       "</table>\n",
       "</div>"
      ],
      "text/plain": [
       "                                                 english          chinese\n",
       "23809  If you are not going to the concert, then neit...  如果你不去音樂會， 我也不去。\n",
       "7992                          Does he have any brothers?        他有任何的兄弟嗎？\n",
       "6326                            How's the weather there?        那里的气候怎么样？\n",
       "753                                       How about you?             那你呢？\n",
       "4679                              Don't you play tennis?          你不打網球嗎？"
      ]
     },
     "execution_count": 21,
     "metadata": {
      "tags": []
     },
     "output_type": "execute_result"
    }
   ],
   "source": [
    "df_replace_punctuation = df_filtered_final\n",
    "df_replace_punctuation['chinese'] = df_replace_punctuation['chinese'].apply(lambda x: replace_punct(x))\n",
    "df_replace_punctuation[chinese_with_ascii_punctuation_mask].loc[ind[:]]"
   ]
  },
  {
   "cell_type": "code",
   "execution_count": 22,
   "metadata": {
    "colab": {
     "base_uri": "https://localhost:8080/"
    },
    "executionInfo": {
     "elapsed": 20,
     "status": "ok",
     "timestamp": 1623163668595,
     "user": {
      "displayName": "Raymond Ngiam",
      "photoUrl": "https://lh3.googleusercontent.com/a-/AOh14GjyeB8nVwl4aahdaHXzAfTJ5tfTEuviw8xXhOsl=s64",
      "userId": "11132753723286663537"
     },
     "user_tz": -480
    },
    "id": "W2sfPg7Uy9zJ",
    "outputId": "df1b1e50-7cd8-4806-dfe6-e28d73d20364"
   },
   "outputs": [
    {
     "data": {
      "text/plain": [
       "0"
      ]
     },
     "execution_count": 22,
     "metadata": {
      "tags": []
     },
     "output_type": "execute_result"
    }
   ],
   "source": [
    "df_replace_punctuation['chinese'].str.contains(\"[?.!,]\").sum()"
   ]
  },
  {
   "cell_type": "markdown",
   "metadata": {
    "id": "pWR7BHrilhS1"
   },
   "source": [
    "Separate punctuation marks with additional space for the purpose of string splitting."
   ]
  },
  {
   "cell_type": "code",
   "execution_count": 23,
   "metadata": {
    "executionInfo": {
     "elapsed": 17,
     "status": "ok",
     "timestamp": 1623163668595,
     "user": {
      "displayName": "Raymond Ngiam",
      "photoUrl": "https://lh3.googleusercontent.com/a-/AOh14GjyeB8nVwl4aahdaHXzAfTJ5tfTEuviw8xXhOsl=s64",
      "userId": "11132753723286663537"
     },
     "user_tz": -480
    },
    "id": "_tw4i5vcc4du"
   },
   "outputs": [],
   "source": [
    "df_separate_punctuation = df_replace_punctuation.applymap(lambda x: re.sub(r\"([.,?!。，？！])\", r\" \\1 \", x))"
   ]
  },
  {
   "cell_type": "code",
   "execution_count": 24,
   "metadata": {
    "colab": {
     "base_uri": "https://localhost:8080/",
     "height": 206
    },
    "executionInfo": {
     "elapsed": 16,
     "status": "ok",
     "timestamp": 1623163668595,
     "user": {
      "displayName": "Raymond Ngiam",
      "photoUrl": "https://lh3.googleusercontent.com/a-/AOh14GjyeB8nVwl4aahdaHXzAfTJ5tfTEuviw8xXhOsl=s64",
      "userId": "11132753723286663537"
     },
     "user_tz": -480
    },
    "id": "b7Xuh01feTwg",
    "outputId": "b59d4402-4efe-4a66-f759-38886d418d67"
   },
   "outputs": [
    {
     "data": {
      "text/html": [
       "<div>\n",
       "<style scoped>\n",
       "    .dataframe tbody tr th:only-of-type {\n",
       "        vertical-align: middle;\n",
       "    }\n",
       "\n",
       "    .dataframe tbody tr th {\n",
       "        vertical-align: top;\n",
       "    }\n",
       "\n",
       "    .dataframe thead th {\n",
       "        text-align: right;\n",
       "    }\n",
       "</style>\n",
       "<table border=\"1\" class=\"dataframe\">\n",
       "  <thead>\n",
       "    <tr style=\"text-align: right;\">\n",
       "      <th></th>\n",
       "      <th>english</th>\n",
       "      <th>chinese</th>\n",
       "    </tr>\n",
       "  </thead>\n",
       "  <tbody>\n",
       "    <tr>\n",
       "      <th>8255</th>\n",
       "      <td>I think you look like Tom .</td>\n",
       "      <td>我看你长得像汤姆 。</td>\n",
       "    </tr>\n",
       "    <tr>\n",
       "      <th>15742</th>\n",
       "      <td>I've changed my website's layout .</td>\n",
       "      <td>我改了一下我网站的版面设计 。</td>\n",
       "    </tr>\n",
       "    <tr>\n",
       "      <th>11017</th>\n",
       "      <td>I started thinking about Tom .</td>\n",
       "      <td>我开始想起汤姆 。</td>\n",
       "    </tr>\n",
       "    <tr>\n",
       "      <th>17500</th>\n",
       "      <td>He seldom ,  if ever ,  goes to church .</td>\n",
       "      <td>他很少 ， 如果有的話 ， 去教堂 。</td>\n",
       "    </tr>\n",
       "    <tr>\n",
       "      <th>1934</th>\n",
       "      <td>It's frozen hard .</td>\n",
       "      <td>真的很冰冷 。</td>\n",
       "    </tr>\n",
       "  </tbody>\n",
       "</table>\n",
       "</div>"
      ],
      "text/plain": [
       "                                         english               chinese\n",
       "8255                I think you look like Tom .            我看你长得像汤姆 。 \n",
       "15742        I've changed my website's layout .       我改了一下我网站的版面设计 。 \n",
       "11017            I started thinking about Tom .             我开始想起汤姆 。 \n",
       "17500  He seldom ,  if ever ,  goes to church .   他很少 ， 如果有的話 ， 去教堂 。 \n",
       "1934                         It's frozen hard .               真的很冰冷 。 "
      ]
     },
     "execution_count": 24,
     "metadata": {
      "tags": []
     },
     "output_type": "execute_result"
    }
   ],
   "source": [
    "df_separate_punctuation.sample(5)"
   ]
  },
  {
   "cell_type": "markdown",
   "metadata": {
    "id": "jQ7VwhVk0Egb"
   },
   "source": [
    "Mapping function to do the text spliting.\n",
    "\n",
    "- Split english text with space.\n",
    "- Split chinese text at every character, discard the first and last element."
   ]
  },
  {
   "cell_type": "code",
   "execution_count": 25,
   "metadata": {
    "executionInfo": {
     "elapsed": 15,
     "status": "ok",
     "timestamp": 1623163668596,
     "user": {
      "displayName": "Raymond Ngiam",
      "photoUrl": "https://lh3.googleusercontent.com/a-/AOh14GjyeB8nVwl4aahdaHXzAfTJ5tfTEuviw8xXhOsl=s64",
      "userId": "11132753723286663537"
     },
     "user_tz": -480
    },
    "id": "ZKEIXKQ8e_t9"
   },
   "outputs": [],
   "source": [
    "df_individual_char = df_separate_punctuation\n",
    "df_individual_char['english_split']=df_individual_char['english'].map(lambda x: re.split(' ',x))\n",
    "df_individual_char['chinese_split']=df_individual_char['chinese'].map(lambda x: re.split('',x)[1:-2])"
   ]
  },
  {
   "cell_type": "code",
   "execution_count": 26,
   "metadata": {
    "colab": {
     "base_uri": "https://localhost:8080/"
    },
    "executionInfo": {
     "elapsed": 16,
     "status": "ok",
     "timestamp": 1623163668597,
     "user": {
      "displayName": "Raymond Ngiam",
      "photoUrl": "https://lh3.googleusercontent.com/a-/AOh14GjyeB8nVwl4aahdaHXzAfTJ5tfTEuviw8xXhOsl=s64",
      "userId": "11132753723286663537"
     },
     "user_tz": -480
    },
    "id": "aekyBhRQmJFs",
    "outputId": "2bd41efa-2fce-4a46-928b-5b3418cc8ee7"
   },
   "outputs": [
    {
     "data": {
      "text/plain": [
       "array([23215,  7732, 22636,  6434, 20126])"
      ]
     },
     "execution_count": 26,
     "metadata": {
      "tags": []
     },
     "output_type": "execute_result"
    }
   ],
   "source": [
    "#ind = np.random.choice(df_individual_char['english'].count(),5)\n",
    "ind = np.array([23215,  7732, 22636,  6434, 20126])  # fix \n",
    "ind"
   ]
  },
  {
   "cell_type": "code",
   "execution_count": 27,
   "metadata": {
    "colab": {
     "base_uri": "https://localhost:8080/",
     "height": 206
    },
    "executionInfo": {
     "elapsed": 15,
     "status": "ok",
     "timestamp": 1623163668597,
     "user": {
      "displayName": "Raymond Ngiam",
      "photoUrl": "https://lh3.googleusercontent.com/a-/AOh14GjyeB8nVwl4aahdaHXzAfTJ5tfTEuviw8xXhOsl=s64",
      "userId": "11132753723286663537"
     },
     "user_tz": -480
    },
    "id": "qRFjU06wfgvX",
    "outputId": "34c6903e-1641-4069-f7b5-8412c60d5ddb"
   },
   "outputs": [
    {
     "data": {
      "text/html": [
       "<div>\n",
       "<style scoped>\n",
       "    .dataframe tbody tr th:only-of-type {\n",
       "        vertical-align: middle;\n",
       "    }\n",
       "\n",
       "    .dataframe tbody tr th {\n",
       "        vertical-align: top;\n",
       "    }\n",
       "\n",
       "    .dataframe thead th {\n",
       "        text-align: right;\n",
       "    }\n",
       "</style>\n",
       "<table border=\"1\" class=\"dataframe\">\n",
       "  <thead>\n",
       "    <tr style=\"text-align: right;\">\n",
       "      <th></th>\n",
       "      <th>english</th>\n",
       "      <th>chinese</th>\n",
       "      <th>english_split</th>\n",
       "      <th>chinese_split</th>\n",
       "    </tr>\n",
       "  </thead>\n",
       "  <tbody>\n",
       "    <tr>\n",
       "      <th>23215</th>\n",
       "      <td>I hope he'll be able to come !  I'd like to se...</td>\n",
       "      <td>我希望他能來 ！ 我想見他 。</td>\n",
       "      <td>[I, hope, he'll, be, able, to, come, !, , I'd,...</td>\n",
       "      <td>[我, 希, 望, 他, 能, 來,  , ！,  , 我, 想, 見, 他,  , 。]</td>\n",
       "    </tr>\n",
       "    <tr>\n",
       "      <th>7732</th>\n",
       "      <td>Tom is able to swim well .</td>\n",
       "      <td>湯姆游泳可以游得很好 。</td>\n",
       "      <td>[Tom, is, able, to, swim, well, ., ]</td>\n",
       "      <td>[湯, 姆, 游, 泳, 可, 以, 游, 得, 很, 好,  , 。]</td>\n",
       "    </tr>\n",
       "    <tr>\n",
       "      <th>22636</th>\n",
       "      <td>He amazed everyone by passing his driving test .</td>\n",
       "      <td>他通過駕駛考試的事讓每一個人都覺得驚訝 。</td>\n",
       "      <td>[He, amazed, everyone, by, passing, his, drivi...</td>\n",
       "      <td>[他, 通, 過, 駕, 駛, 考, 試, 的, 事, 讓, 每, 一, 個, 人, 都, ...</td>\n",
       "    </tr>\n",
       "    <tr>\n",
       "      <th>6434</th>\n",
       "      <td>I saw him sawing a tree .</td>\n",
       "      <td>我看见他正在锯一棵树 。</td>\n",
       "      <td>[I, saw, him, sawing, a, tree, ., ]</td>\n",
       "      <td>[我, 看, 见, 他, 正, 在, 锯, 一, 棵, 树,  , 。]</td>\n",
       "    </tr>\n",
       "    <tr>\n",
       "      <th>20126</th>\n",
       "      <td>I got a farewell present from everyone .</td>\n",
       "      <td>每個人都送了我一份歡送禮物 。</td>\n",
       "      <td>[I, got, a, farewell, present, from, everyone,...</td>\n",
       "      <td>[每, 個, 人, 都, 送, 了, 我, 一, 份, 歡, 送, 禮, 物,  , 。]</td>\n",
       "    </tr>\n",
       "  </tbody>\n",
       "</table>\n",
       "</div>"
      ],
      "text/plain": [
       "                                                 english  ...                                      chinese_split\n",
       "23215  I hope he'll be able to come !  I'd like to se...  ...      [我, 希, 望, 他, 能, 來,  , ！,  , 我, 想, 見, 他,  , 。]\n",
       "7732                         Tom is able to swim well .   ...               [湯, 姆, 游, 泳, 可, 以, 游, 得, 很, 好,  , 。]\n",
       "22636  He amazed everyone by passing his driving test .   ...  [他, 通, 過, 駕, 駛, 考, 試, 的, 事, 讓, 每, 一, 個, 人, 都, ...\n",
       "6434                          I saw him sawing a tree .   ...               [我, 看, 见, 他, 正, 在, 锯, 一, 棵, 树,  , 。]\n",
       "20126          I got a farewell present from everyone .   ...      [每, 個, 人, 都, 送, 了, 我, 一, 份, 歡, 送, 禮, 物,  , 。]\n",
       "\n",
       "[5 rows x 4 columns]"
      ]
     },
     "execution_count": 27,
     "metadata": {
      "tags": []
     },
     "output_type": "execute_result"
    }
   ],
   "source": [
    "df_individual_char.loc[ind]"
   ]
  },
  {
   "cell_type": "markdown",
   "metadata": {
    "id": "GL_OETW00m33"
   },
   "source": [
    "Remove undesired characters in the text arrays.\n",
    "\n",
    "- Remove '' in english text.\n",
    "- Remove ' ' in chinese text."
   ]
  },
  {
   "cell_type": "code",
   "execution_count": 28,
   "metadata": {
    "executionInfo": {
     "elapsed": 15,
     "status": "ok",
     "timestamp": 1623163668598,
     "user": {
      "displayName": "Raymond Ngiam",
      "photoUrl": "https://lh3.googleusercontent.com/a-/AOh14GjyeB8nVwl4aahdaHXzAfTJ5tfTEuviw8xXhOsl=s64",
      "userId": "11132753723286663537"
     },
     "user_tz": -480
    },
    "id": "c2bUcifzpCcN"
   },
   "outputs": [],
   "source": [
    "def remove_char(x, char):\n",
    "  x = np.asarray(x)\n",
    "  mask = x == np.repeat(char, len(x))\n",
    "  return x[~mask]\n"
   ]
  },
  {
   "cell_type": "code",
   "execution_count": 29,
   "metadata": {
    "colab": {
     "base_uri": "https://localhost:8080/"
    },
    "executionInfo": {
     "elapsed": 11,
     "status": "ok",
     "timestamp": 1623163668903,
     "user": {
      "displayName": "Raymond Ngiam",
      "photoUrl": "https://lh3.googleusercontent.com/a-/AOh14GjyeB8nVwl4aahdaHXzAfTJ5tfTEuviw8xXhOsl=s64",
      "userId": "11132753723286663537"
     },
     "user_tz": -480
    },
    "id": "JXiBOG8tm2md",
    "outputId": "9d0a98db-321f-4605-b2cb-e7430159dc92"
   },
   "outputs": [
    {
     "name": "stdout",
     "output_type": "stream",
     "text": [
      "Raw input: ['I', 'hope', \"he'll\", 'be', 'able', 'to', 'come', '!', '', \"I'd\", 'like', 'to', 'see', 'him', '.', '']\n",
      "\n",
      "Removed char '': ['I' 'hope' \"he'll\" 'be' 'able' 'to' 'come' '!' \"I'd\" 'like' 'to' 'see'\n",
      " 'him' '.']\n"
     ]
    }
   ],
   "source": [
    "tmp=df_individual_char['english_split'].loc[ind[0]]\n",
    "print(f'Raw input: {tmp}\\n')\n",
    "result = remove_char(tmp, '')\n",
    "print(f'Removed char \\'\\': {result}')"
   ]
  },
  {
   "cell_type": "code",
   "execution_count": 30,
   "metadata": {
    "colab": {
     "base_uri": "https://localhost:8080/"
    },
    "executionInfo": {
     "elapsed": 7,
     "status": "ok",
     "timestamp": 1623163668903,
     "user": {
      "displayName": "Raymond Ngiam",
      "photoUrl": "https://lh3.googleusercontent.com/a-/AOh14GjyeB8nVwl4aahdaHXzAfTJ5tfTEuviw8xXhOsl=s64",
      "userId": "11132753723286663537"
     },
     "user_tz": -480
    },
    "id": "pfsjBP0uqLP3",
    "outputId": "c43c5748-e40e-4647-dcfc-34243b8d9618"
   },
   "outputs": [
    {
     "name": "stdout",
     "output_type": "stream",
     "text": [
      "Raw input: ['他', '通', '過', '駕', '駛', '考', '試', '的', '事', '讓', '每', '一', '個', '人', '都', '覺', '得', '驚', '訝', ' ', '。']\n",
      "\n",
      "Removed char ' ': ['他' '通' '過' '駕' '駛' '考' '試' '的' '事' '讓' '每' '一' '個' '人' '都' '覺' '得' '驚'\n",
      " '訝' '。']\n"
     ]
    }
   ],
   "source": [
    "tmp=df_individual_char['chinese_split'].loc[ind[2]]\n",
    "print(f'Raw input: {tmp}\\n')\n",
    "result = remove_char(tmp, ' ')\n",
    "print(f'Removed char \\' \\': {result}')"
   ]
  },
  {
   "cell_type": "code",
   "execution_count": 31,
   "metadata": {
    "executionInfo": {
     "elapsed": 419,
     "status": "ok",
     "timestamp": 1623163669318,
     "user": {
      "displayName": "Raymond Ngiam",
      "photoUrl": "https://lh3.googleusercontent.com/a-/AOh14GjyeB8nVwl4aahdaHXzAfTJ5tfTEuviw8xXhOsl=s64",
      "userId": "11132753723286663537"
     },
     "user_tz": -480
    },
    "id": "vpETGkmfqdPv"
   },
   "outputs": [],
   "source": [
    "df_remove_array_char = df_individual_char\n",
    "df_remove_array_char['english_split']=df_remove_array_char['english_split'].map(lambda x: remove_char(x,''))\n",
    "df_remove_array_char['chinese_split']=df_remove_array_char['chinese_split'].map(lambda x: remove_char(x,' '))"
   ]
  },
  {
   "cell_type": "code",
   "execution_count": 32,
   "metadata": {
    "colab": {
     "base_uri": "https://localhost:8080/",
     "height": 206
    },
    "executionInfo": {
     "elapsed": 16,
     "status": "ok",
     "timestamp": 1623163669319,
     "user": {
      "displayName": "Raymond Ngiam",
      "photoUrl": "https://lh3.googleusercontent.com/a-/AOh14GjyeB8nVwl4aahdaHXzAfTJ5tfTEuviw8xXhOsl=s64",
      "userId": "11132753723286663537"
     },
     "user_tz": -480
    },
    "id": "Dcdb8U47qvfl",
    "outputId": "f0d536f3-082c-4546-8567-a101397b5f07"
   },
   "outputs": [
    {
     "data": {
      "text/html": [
       "<div>\n",
       "<style scoped>\n",
       "    .dataframe tbody tr th:only-of-type {\n",
       "        vertical-align: middle;\n",
       "    }\n",
       "\n",
       "    .dataframe tbody tr th {\n",
       "        vertical-align: top;\n",
       "    }\n",
       "\n",
       "    .dataframe thead th {\n",
       "        text-align: right;\n",
       "    }\n",
       "</style>\n",
       "<table border=\"1\" class=\"dataframe\">\n",
       "  <thead>\n",
       "    <tr style=\"text-align: right;\">\n",
       "      <th></th>\n",
       "      <th>english</th>\n",
       "      <th>chinese</th>\n",
       "      <th>english_split</th>\n",
       "      <th>chinese_split</th>\n",
       "    </tr>\n",
       "  </thead>\n",
       "  <tbody>\n",
       "    <tr>\n",
       "      <th>23215</th>\n",
       "      <td>I hope he'll be able to come !  I'd like to se...</td>\n",
       "      <td>我希望他能來 ！ 我想見他 。</td>\n",
       "      <td>[I, hope, he'll, be, able, to, come, !, I'd, l...</td>\n",
       "      <td>[我, 希, 望, 他, 能, 來, ！, 我, 想, 見, 他, 。]</td>\n",
       "    </tr>\n",
       "    <tr>\n",
       "      <th>7732</th>\n",
       "      <td>Tom is able to swim well .</td>\n",
       "      <td>湯姆游泳可以游得很好 。</td>\n",
       "      <td>[Tom, is, able, to, swim, well, .]</td>\n",
       "      <td>[湯, 姆, 游, 泳, 可, 以, 游, 得, 很, 好, 。]</td>\n",
       "    </tr>\n",
       "    <tr>\n",
       "      <th>22636</th>\n",
       "      <td>He amazed everyone by passing his driving test .</td>\n",
       "      <td>他通過駕駛考試的事讓每一個人都覺得驚訝 。</td>\n",
       "      <td>[He, amazed, everyone, by, passing, his, drivi...</td>\n",
       "      <td>[他, 通, 過, 駕, 駛, 考, 試, 的, 事, 讓, 每, 一, 個, 人, 都, ...</td>\n",
       "    </tr>\n",
       "    <tr>\n",
       "      <th>6434</th>\n",
       "      <td>I saw him sawing a tree .</td>\n",
       "      <td>我看见他正在锯一棵树 。</td>\n",
       "      <td>[I, saw, him, sawing, a, tree, .]</td>\n",
       "      <td>[我, 看, 见, 他, 正, 在, 锯, 一, 棵, 树, 。]</td>\n",
       "    </tr>\n",
       "    <tr>\n",
       "      <th>20126</th>\n",
       "      <td>I got a farewell present from everyone .</td>\n",
       "      <td>每個人都送了我一份歡送禮物 。</td>\n",
       "      <td>[I, got, a, farewell, present, from, everyone, .]</td>\n",
       "      <td>[每, 個, 人, 都, 送, 了, 我, 一, 份, 歡, 送, 禮, 物, 。]</td>\n",
       "    </tr>\n",
       "  </tbody>\n",
       "</table>\n",
       "</div>"
      ],
      "text/plain": [
       "                                                 english  ...                                      chinese_split\n",
       "23215  I hope he'll be able to come !  I'd like to se...  ...               [我, 希, 望, 他, 能, 來, ！, 我, 想, 見, 他, 。]\n",
       "7732                         Tom is able to swim well .   ...                  [湯, 姆, 游, 泳, 可, 以, 游, 得, 很, 好, 。]\n",
       "22636  He amazed everyone by passing his driving test .   ...  [他, 通, 過, 駕, 駛, 考, 試, 的, 事, 讓, 每, 一, 個, 人, 都, ...\n",
       "6434                          I saw him sawing a tree .   ...                  [我, 看, 见, 他, 正, 在, 锯, 一, 棵, 树, 。]\n",
       "20126          I got a farewell present from everyone .   ...         [每, 個, 人, 都, 送, 了, 我, 一, 份, 歡, 送, 禮, 物, 。]\n",
       "\n",
       "[5 rows x 4 columns]"
      ]
     },
     "execution_count": 32,
     "metadata": {
      "tags": []
     },
     "output_type": "execute_result"
    }
   ],
   "source": [
    "df_remove_array_char.loc[ind]"
   ]
  },
  {
   "cell_type": "markdown",
   "metadata": {
    "id": "v1hyWg8z1FRp"
   },
   "source": [
    "Append `<start>` and `<end>` token to the chinese text."
   ]
  },
  {
   "cell_type": "code",
   "execution_count": 33,
   "metadata": {
    "executionInfo": {
     "elapsed": 16,
     "status": "ok",
     "timestamp": 1623163669322,
     "user": {
      "displayName": "Raymond Ngiam",
      "photoUrl": "https://lh3.googleusercontent.com/a-/AOh14GjyeB8nVwl4aahdaHXzAfTJ5tfTEuviw8xXhOsl=s64",
      "userId": "11132753723286663537"
     },
     "user_tz": -480
    },
    "id": "hlI44d8Lr5Fa"
   },
   "outputs": [],
   "source": [
    "def append_token(x):\n",
    "  x=np.array(x,dtype='U7')\n",
    "  start_token_added = np.insert(x,0,\"<start>\",axis=0)\n",
    "  end_token_added = np.concatenate((start_token_added,[\"<end>\"]),axis=0)\n",
    "  return end_token_added"
   ]
  },
  {
   "cell_type": "code",
   "execution_count": 34,
   "metadata": {
    "colab": {
     "base_uri": "https://localhost:8080/"
    },
    "executionInfo": {
     "elapsed": 15,
     "status": "ok",
     "timestamp": 1623163669323,
     "user": {
      "displayName": "Raymond Ngiam",
      "photoUrl": "https://lh3.googleusercontent.com/a-/AOh14GjyeB8nVwl4aahdaHXzAfTJ5tfTEuviw8xXhOsl=s64",
      "userId": "11132753723286663537"
     },
     "user_tz": -480
    },
    "id": "EcZ7ZFrlsmoL",
    "outputId": "eed9a50d-d1e9-4a7f-d7f7-0a13c66f666a"
   },
   "outputs": [
    {
     "data": {
      "text/plain": [
       "array(['<start>', '我', '希', '望', '他', '能', '來', '！', '我', '想', '見', '他',\n",
       "       '。', '<end>'], dtype='<U7')"
      ]
     },
     "execution_count": 34,
     "metadata": {
      "tags": []
     },
     "output_type": "execute_result"
    }
   ],
   "source": [
    "append_token(df_remove_array_char['chinese_split'].loc[ind[0]])"
   ]
  },
  {
   "cell_type": "code",
   "execution_count": 35,
   "metadata": {
    "executionInfo": {
     "elapsed": 744,
     "status": "ok",
     "timestamp": 1623163670055,
     "user": {
      "displayName": "Raymond Ngiam",
      "photoUrl": "https://lh3.googleusercontent.com/a-/AOh14GjyeB8nVwl4aahdaHXzAfTJ5tfTEuviw8xXhOsl=s64",
      "userId": "11132753723286663537"
     },
     "user_tz": -480
    },
    "id": "8awrtaMhoYxf"
   },
   "outputs": [],
   "source": [
    "df_final = df_remove_array_char\n",
    "df_final['chinese_split']=df_final['chinese_split'].map(lambda x: append_token(x))"
   ]
  },
  {
   "cell_type": "code",
   "execution_count": 36,
   "metadata": {
    "colab": {
     "base_uri": "https://localhost:8080/"
    },
    "executionInfo": {
     "elapsed": 24,
     "status": "ok",
     "timestamp": 1623163670057,
     "user": {
      "displayName": "Raymond Ngiam",
      "photoUrl": "https://lh3.googleusercontent.com/a-/AOh14GjyeB8nVwl4aahdaHXzAfTJ5tfTEuviw8xXhOsl=s64",
      "userId": "11132753723286663537"
     },
     "user_tz": -480
    },
    "id": "XwHiM4a3vzza",
    "outputId": "33e1a8dd-6194-48f4-efc2-76adf2eaeadf"
   },
   "outputs": [
    {
     "name": "stdout",
     "output_type": "stream",
     "text": [
      "23215-th sample:\n",
      "\n",
      "english: ['I' 'hope' \"he'll\" 'be' 'able' 'to' 'come' '!' \"I'd\" 'like' 'to' 'see'\n",
      " 'him' '.']\n",
      "\n",
      "chinese: ['<start>' '我' '希' '望' '他' '能' '來' '！' '我' '想' '見' '他' '。' '<end>']\n",
      "\n",
      "\n",
      "7732-th sample:\n",
      "\n",
      "english: ['Tom' 'is' 'able' 'to' 'swim' 'well' '.']\n",
      "\n",
      "chinese: ['<start>' '湯' '姆' '游' '泳' '可' '以' '游' '得' '很' '好' '。' '<end>']\n",
      "\n",
      "\n",
      "22636-th sample:\n",
      "\n",
      "english: ['He' 'amazed' 'everyone' 'by' 'passing' 'his' 'driving' 'test' '.']\n",
      "\n",
      "chinese: ['<start>' '他' '通' '過' '駕' '駛' '考' '試' '的' '事' '讓' '每' '一' '個' '人' '都' '覺'\n",
      " '得' '驚' '訝' '。' '<end>']\n",
      "\n",
      "\n",
      "6434-th sample:\n",
      "\n",
      "english: ['I' 'saw' 'him' 'sawing' 'a' 'tree' '.']\n",
      "\n",
      "chinese: ['<start>' '我' '看' '见' '他' '正' '在' '锯' '一' '棵' '树' '。' '<end>']\n",
      "\n",
      "\n",
      "20126-th sample:\n",
      "\n",
      "english: ['I' 'got' 'a' 'farewell' 'present' 'from' 'everyone' '.']\n",
      "\n",
      "chinese: ['<start>' '每' '個' '人' '都' '送' '了' '我' '一' '份' '歡' '送' '禮' '物' '。' '<end>']\n",
      "\n",
      "\n"
     ]
    }
   ],
   "source": [
    "for i in ind:\n",
    "  print(f'{i}-th sample:\\n')\n",
    "  eng = df_final['english_split'].loc[i]\n",
    "  chn = df_final['chinese_split'].loc[i]\n",
    "  print(f'english: {eng}\\n')\n",
    "  print(f'chinese: {chn}\\n\\n')"
   ]
  },
  {
   "cell_type": "markdown",
   "metadata": {
    "id": "MJCM9ILy1ZqP"
   },
   "source": [
    "Save the processed dataset."
   ]
  },
  {
   "cell_type": "code",
   "execution_count": 37,
   "metadata": {
    "executionInfo": {
     "elapsed": 565,
     "status": "ok",
     "timestamp": 1623163670611,
     "user": {
      "displayName": "Raymond Ngiam",
      "photoUrl": "https://lh3.googleusercontent.com/a-/AOh14GjyeB8nVwl4aahdaHXzAfTJ5tfTEuviw8xXhOsl=s64",
      "userId": "11132753723286663537"
     },
     "user_tz": -480
    },
    "id": "3w_5gkie1Yj0"
   },
   "outputs": [],
   "source": [
    "df_final.to_json(path.join(googleDrivePathPrefix,'data/cmn-processed.json'))"
   ]
  },
  {
   "cell_type": "code",
   "execution_count": 38,
   "metadata": {
    "colab": {
     "base_uri": "https://localhost:8080/",
     "height": 206
    },
    "executionInfo": {
     "elapsed": 30,
     "status": "ok",
     "timestamp": 1623163670612,
     "user": {
      "displayName": "Raymond Ngiam",
      "photoUrl": "https://lh3.googleusercontent.com/a-/AOh14GjyeB8nVwl4aahdaHXzAfTJ5tfTEuviw8xXhOsl=s64",
      "userId": "11132753723286663537"
     },
     "user_tz": -480
    },
    "id": "4yD0N_2X2bfI",
    "outputId": "9089d07c-9ea2-4d1f-f0e2-ba8f4cebcb3c"
   },
   "outputs": [
    {
     "data": {
      "text/html": [
       "<div>\n",
       "<style scoped>\n",
       "    .dataframe tbody tr th:only-of-type {\n",
       "        vertical-align: middle;\n",
       "    }\n",
       "\n",
       "    .dataframe tbody tr th {\n",
       "        vertical-align: top;\n",
       "    }\n",
       "\n",
       "    .dataframe thead th {\n",
       "        text-align: right;\n",
       "    }\n",
       "</style>\n",
       "<table border=\"1\" class=\"dataframe\">\n",
       "  <thead>\n",
       "    <tr style=\"text-align: right;\">\n",
       "      <th></th>\n",
       "      <th>english</th>\n",
       "      <th>chinese</th>\n",
       "      <th>english_split</th>\n",
       "      <th>chinese_split</th>\n",
       "    </tr>\n",
       "  </thead>\n",
       "  <tbody>\n",
       "    <tr>\n",
       "      <th>13453</th>\n",
       "      <td>It is really time for us to go .</td>\n",
       "      <td>这真是我们该走的时候了 。</td>\n",
       "      <td>[It, is, really, time, for, us, to, go, .]</td>\n",
       "      <td>[&lt;start&gt;, 这, 真, 是, 我, 们, 该, 走, 的, 时, 候, 了, 。, ...</td>\n",
       "    </tr>\n",
       "    <tr>\n",
       "      <th>15353</th>\n",
       "      <td>He gave his life for his country .</td>\n",
       "      <td>他把他的一生獻給了他的國家 。</td>\n",
       "      <td>[He, gave, his, life, for, his, country, .]</td>\n",
       "      <td>[&lt;start&gt;, 他, 把, 他, 的, 一, 生, 獻, 給, 了, 他, 的, 國, ...</td>\n",
       "    </tr>\n",
       "    <tr>\n",
       "      <th>831</th>\n",
       "      <td>It's a secret .</td>\n",
       "      <td>它是個秘密 。</td>\n",
       "      <td>[It's, a, secret, .]</td>\n",
       "      <td>[&lt;start&gt;, 它, 是, 個, 秘, 密, 。, &lt;end&gt;]</td>\n",
       "    </tr>\n",
       "    <tr>\n",
       "      <th>13137</th>\n",
       "      <td>How much is the rent per month ?</td>\n",
       "      <td>一個月的租金多少 ？</td>\n",
       "      <td>[How, much, is, the, rent, per, month, ?]</td>\n",
       "      <td>[&lt;start&gt;, 一, 個, 月, 的, 租, 金, 多, 少, ？, &lt;end&gt;]</td>\n",
       "    </tr>\n",
       "    <tr>\n",
       "      <th>8932</th>\n",
       "      <td>He has to repair the clock .</td>\n",
       "      <td>他必須修理這個時鐘 。</td>\n",
       "      <td>[He, has, to, repair, the, clock, .]</td>\n",
       "      <td>[&lt;start&gt;, 他, 必, 須, 修, 理, 這, 個, 時, 鐘, 。, &lt;end&gt;]</td>\n",
       "    </tr>\n",
       "  </tbody>\n",
       "</table>\n",
       "</div>"
      ],
      "text/plain": [
       "                                   english  ...                                      chinese_split\n",
       "13453    It is really time for us to go .   ...  [<start>, 这, 真, 是, 我, 们, 该, 走, 的, 时, 候, 了, 。, ...\n",
       "15353  He gave his life for his country .   ...  [<start>, 他, 把, 他, 的, 一, 生, 獻, 給, 了, 他, 的, 國, ...\n",
       "831                       It's a secret .   ...                 [<start>, 它, 是, 個, 秘, 密, 。, <end>]\n",
       "13137    How much is the rent per month ?   ...        [<start>, 一, 個, 月, 的, 租, 金, 多, 少, ？, <end>]\n",
       "8932         He has to repair the clock .   ...     [<start>, 他, 必, 須, 修, 理, 這, 個, 時, 鐘, 。, <end>]\n",
       "\n",
       "[5 rows x 4 columns]"
      ]
     },
     "execution_count": 38,
     "metadata": {
      "tags": []
     },
     "output_type": "execute_result"
    }
   ],
   "source": [
    "df_reproduced = pd.read_json(path.join(googleDrivePathPrefix,'data/cmn-processed.json'))\n",
    "df_reproduced.sample(5)"
   ]
  }
 ],
 "metadata": {
  "colab": {
   "authorship_tag": "ABX9TyNAmi60Rrojknl6BXn5Wfai",
   "collapsed_sections": [],
   "name": "01-DataPreprocessing.ipynb",
   "provenance": []
  },
  "kernelspec": {
   "display_name": "Python 3",
   "language": "python",
   "name": "python3"
  },
  "language_info": {
   "codemirror_mode": {
    "name": "ipython",
    "version": 3
   },
   "file_extension": ".py",
   "mimetype": "text/x-python",
   "name": "python",
   "nbconvert_exporter": "python",
   "pygments_lexer": "ipython3",
   "version": "3.8.8"
  }
 },
 "nbformat": 4,
 "nbformat_minor": 1
}
