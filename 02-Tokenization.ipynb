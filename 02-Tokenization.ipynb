{
 "cells": [
  {
   "cell_type": "code",
   "execution_count": 18,
   "metadata": {
    "colab": {
     "base_uri": "https://localhost:8080/"
    },
    "executionInfo": {
     "elapsed": 569,
     "status": "ok",
     "timestamp": 1623171297624,
     "user": {
      "displayName": "Raymond Ngiam",
      "photoUrl": "https://lh3.googleusercontent.com/a-/AOh14GjyeB8nVwl4aahdaHXzAfTJ5tfTEuviw8xXhOsl=s64",
      "userId": "11132753723286663537"
     },
     "user_tz": -480
    },
    "id": "vVHG-_5hDuLI",
    "outputId": "2d82faf6-a8d6-41c0-8530-6dd012aa563f"
   },
   "outputs": [
    {
     "name": "stdout",
     "output_type": "stream",
     "text": [
      "2.5.0\n"
     ]
    }
   ],
   "source": [
    "%tensorflow_version 2.x\n",
    "import tensorflow as tf\n",
    "print(tf.__version__)"
   ]
  },
  {
   "cell_type": "code",
   "execution_count": 19,
   "metadata": {
    "colab": {
     "base_uri": "https://localhost:8080/"
    },
    "executionInfo": {
     "elapsed": 23,
     "status": "ok",
     "timestamp": 1623171297626,
     "user": {
      "displayName": "Raymond Ngiam",
      "photoUrl": "https://lh3.googleusercontent.com/a-/AOh14GjyeB8nVwl4aahdaHXzAfTJ5tfTEuviw8xXhOsl=s64",
      "userId": "11132753723286663537"
     },
     "user_tz": -480
    },
    "id": "FqTRpm3TCmLC",
    "outputId": "d0e75642-5482-4451-e917-40d9d38094c1"
   },
   "outputs": [
    {
     "name": "stdout",
     "output_type": "stream",
     "text": [
      "Drive already mounted at /content/drive; to attempt to forcibly remount, call drive.mount(\"/content/drive\", force_remount=True).\n"
     ]
    }
   ],
   "source": [
    "from google.colab import drive\n",
    "drive.mount('/content/drive')"
   ]
  },
  {
   "cell_type": "code",
   "execution_count": 20,
   "metadata": {
    "executionInfo": {
     "elapsed": 20,
     "status": "ok",
     "timestamp": 1623171297627,
     "user": {
      "displayName": "Raymond Ngiam",
      "photoUrl": "https://lh3.googleusercontent.com/a-/AOh14GjyeB8nVwl4aahdaHXzAfTJ5tfTEuviw8xXhOsl=s64",
      "userId": "11132753723286663537"
     },
     "user_tz": -480
    },
    "id": "w8QfcmFjB8mi"
   },
   "outputs": [],
   "source": [
    "googleDrivePathPrefix = 'drive/My Drive/Colab Notebooks'"
   ]
  },
  {
   "cell_type": "code",
   "execution_count": 21,
   "metadata": {
    "executionInfo": {
     "elapsed": 19,
     "status": "ok",
     "timestamp": 1623171297629,
     "user": {
      "displayName": "Raymond Ngiam",
      "photoUrl": "https://lh3.googleusercontent.com/a-/AOh14GjyeB8nVwl4aahdaHXzAfTJ5tfTEuviw8xXhOsl=s64",
      "userId": "11132753723286663537"
     },
     "user_tz": -480
    },
    "id": "pqJc6LcxDGx1"
   },
   "outputs": [],
   "source": [
    "import pandas as pd\n",
    "import numpy as np\n",
    "from os import path\n",
    "import json\n",
    "\n",
    "from tensorflow.keras.preprocessing.text import Tokenizer\n",
    "from tensorflow.keras.preprocessing.sequence import pad_sequences"
   ]
  },
  {
   "cell_type": "code",
   "execution_count": 22,
   "metadata": {
    "executionInfo": {
     "elapsed": 514,
     "status": "ok",
     "timestamp": 1623171298126,
     "user": {
      "displayName": "Raymond Ngiam",
      "photoUrl": "https://lh3.googleusercontent.com/a-/AOh14GjyeB8nVwl4aahdaHXzAfTJ5tfTEuviw8xXhOsl=s64",
      "userId": "11132753723286663537"
     },
     "user_tz": -480
    },
    "id": "q3cWcBjeCTDD"
   },
   "outputs": [],
   "source": [
    "df = pd.read_json(path.join(googleDrivePathPrefix,'data/cmn-processed.json'))"
   ]
  },
  {
   "cell_type": "code",
   "execution_count": 23,
   "metadata": {
    "colab": {
     "base_uri": "https://localhost:8080/",
     "height": 206
    },
    "executionInfo": {
     "elapsed": 17,
     "status": "ok",
     "timestamp": 1623171298127,
     "user": {
      "displayName": "Raymond Ngiam",
      "photoUrl": "https://lh3.googleusercontent.com/a-/AOh14GjyeB8nVwl4aahdaHXzAfTJ5tfTEuviw8xXhOsl=s64",
      "userId": "11132753723286663537"
     },
     "user_tz": -480
    },
    "id": "DaAP9uhyDFkq",
    "outputId": "c025de60-7e38-4e39-de21-7474ebf861f3"
   },
   "outputs": [
    {
     "data": {
      "text/html": [
       "<div>\n",
       "<style scoped>\n",
       "    .dataframe tbody tr th:only-of-type {\n",
       "        vertical-align: middle;\n",
       "    }\n",
       "\n",
       "    .dataframe tbody tr th {\n",
       "        vertical-align: top;\n",
       "    }\n",
       "\n",
       "    .dataframe thead th {\n",
       "        text-align: right;\n",
       "    }\n",
       "</style>\n",
       "<table border=\"1\" class=\"dataframe\">\n",
       "  <thead>\n",
       "    <tr style=\"text-align: right;\">\n",
       "      <th></th>\n",
       "      <th>english</th>\n",
       "      <th>chinese</th>\n",
       "      <th>english_split</th>\n",
       "      <th>chinese_split</th>\n",
       "    </tr>\n",
       "  </thead>\n",
       "  <tbody>\n",
       "    <tr>\n",
       "      <th>0</th>\n",
       "      <td>Hi .</td>\n",
       "      <td>嗨 。</td>\n",
       "      <td>[Hi, .]</td>\n",
       "      <td>[&lt;start&gt;, 嗨, 。, &lt;end&gt;]</td>\n",
       "    </tr>\n",
       "    <tr>\n",
       "      <th>1</th>\n",
       "      <td>Hi .</td>\n",
       "      <td>你好 。</td>\n",
       "      <td>[Hi, .]</td>\n",
       "      <td>[&lt;start&gt;, 你, 好, 。, &lt;end&gt;]</td>\n",
       "    </tr>\n",
       "    <tr>\n",
       "      <th>2</th>\n",
       "      <td>Run .</td>\n",
       "      <td>你用跑的 。</td>\n",
       "      <td>[Run, .]</td>\n",
       "      <td>[&lt;start&gt;, 你, 用, 跑, 的, 。, &lt;end&gt;]</td>\n",
       "    </tr>\n",
       "    <tr>\n",
       "      <th>3</th>\n",
       "      <td>Wait !</td>\n",
       "      <td>等等 ！</td>\n",
       "      <td>[Wait, !]</td>\n",
       "      <td>[&lt;start&gt;, 等, 等, ！, &lt;end&gt;]</td>\n",
       "    </tr>\n",
       "    <tr>\n",
       "      <th>4</th>\n",
       "      <td>Wait !</td>\n",
       "      <td>等一下 ！</td>\n",
       "      <td>[Wait, !]</td>\n",
       "      <td>[&lt;start&gt;, 等, 一, 下, ！, &lt;end&gt;]</td>\n",
       "    </tr>\n",
       "  </tbody>\n",
       "</table>\n",
       "</div>"
      ],
      "text/plain": [
       "   english  chinese english_split                    chinese_split\n",
       "0    Hi .      嗨 。        [Hi, .]           [<start>, 嗨, 。, <end>]\n",
       "1    Hi .     你好 。        [Hi, .]        [<start>, 你, 好, 。, <end>]\n",
       "2   Run .   你用跑的 。       [Run, .]  [<start>, 你, 用, 跑, 的, 。, <end>]\n",
       "3  Wait !     等等 ！      [Wait, !]        [<start>, 等, 等, ！, <end>]\n",
       "4  Wait !    等一下 ！      [Wait, !]     [<start>, 等, 一, 下, ！, <end>]"
      ]
     },
     "execution_count": 23,
     "metadata": {
      "tags": []
     },
     "output_type": "execute_result"
    }
   ],
   "source": [
    "df.head()"
   ]
  },
  {
   "cell_type": "code",
   "execution_count": 24,
   "metadata": {
    "colab": {
     "base_uri": "https://localhost:8080/"
    },
    "executionInfo": {
     "elapsed": 13,
     "status": "ok",
     "timestamp": 1623171298128,
     "user": {
      "displayName": "Raymond Ngiam",
      "photoUrl": "https://lh3.googleusercontent.com/a-/AOh14GjyeB8nVwl4aahdaHXzAfTJ5tfTEuviw8xXhOsl=s64",
      "userId": "11132753723286663537"
     },
     "user_tz": -480
    },
    "id": "r2haj-3WERPh",
    "outputId": "37a43b1c-d10c-4ca0-b601-7a8466502b6f"
   },
   "outputs": [
    {
     "name": "stdout",
     "output_type": "stream",
     "text": [
      "english-chinese sample count: 24089\n"
     ]
    }
   ],
   "source": [
    "english = df['english_split']\n",
    "chinese = df['chinese_split']\n",
    "print(f'english-chinese sample count: {english.count()}')"
   ]
  },
  {
   "cell_type": "code",
   "execution_count": 25,
   "metadata": {
    "executionInfo": {
     "elapsed": 13,
     "status": "ok",
     "timestamp": 1623171298130,
     "user": {
      "displayName": "Raymond Ngiam",
      "photoUrl": "https://lh3.googleusercontent.com/a-/AOh14GjyeB8nVwl4aahdaHXzAfTJ5tfTEuviw8xXhOsl=s64",
      "userId": "11132753723286663537"
     },
     "user_tz": -480
    },
    "id": "AY-MFucgDQsD"
   },
   "outputs": [],
   "source": [
    "tokenizer = Tokenizer(num_words=None,filters='',lower=False,char_level=False)"
   ]
  },
  {
   "cell_type": "code",
   "execution_count": 26,
   "metadata": {
    "colab": {
     "base_uri": "https://localhost:8080/"
    },
    "executionInfo": {
     "elapsed": 12,
     "status": "ok",
     "timestamp": 1623171298130,
     "user": {
      "displayName": "Raymond Ngiam",
      "photoUrl": "https://lh3.googleusercontent.com/a-/AOh14GjyeB8nVwl4aahdaHXzAfTJ5tfTEuviw8xXhOsl=s64",
      "userId": "11132753723286663537"
     },
     "user_tz": -480
    },
    "id": "UamG3Kx_D7UQ",
    "outputId": "b723ff7d-0634-4fb7-82a3-01d265bcee12"
   },
   "outputs": [
    {
     "data": {
      "text/plain": [
       "{'char_level': False,\n",
       " 'document_count': 0,\n",
       " 'filters': '',\n",
       " 'index_docs': '{}',\n",
       " 'index_word': '{}',\n",
       " 'lower': False,\n",
       " 'num_words': None,\n",
       " 'oov_token': None,\n",
       " 'split': ' ',\n",
       " 'word_counts': '{}',\n",
       " 'word_docs': '{}',\n",
       " 'word_index': '{}'}"
      ]
     },
     "execution_count": 26,
     "metadata": {
      "tags": []
     },
     "output_type": "execute_result"
    }
   ],
   "source": [
    "tokenizer_config = tokenizer.get_config()\n",
    "tokenizer_config"
   ]
  },
  {
   "cell_type": "code",
   "execution_count": 27,
   "metadata": {
    "executionInfo": {
     "elapsed": 479,
     "status": "ok",
     "timestamp": 1623171298600,
     "user": {
      "displayName": "Raymond Ngiam",
      "photoUrl": "https://lh3.googleusercontent.com/a-/AOh14GjyeB8nVwl4aahdaHXzAfTJ5tfTEuviw8xXhOsl=s64",
      "userId": "11132753723286663537"
     },
     "user_tz": -480
    },
    "id": "yF2J1EpAEBHz"
   },
   "outputs": [],
   "source": [
    "tokenizer.fit_on_texts(chinese)\n",
    "tokenizer_seq = tokenizer.texts_to_sequences(chinese)"
   ]
  },
  {
   "cell_type": "code",
   "execution_count": 28,
   "metadata": {
    "executionInfo": {
     "elapsed": 24,
     "status": "ok",
     "timestamp": 1623171298602,
     "user": {
      "displayName": "Raymond Ngiam",
      "photoUrl": "https://lh3.googleusercontent.com/a-/AOh14GjyeB8nVwl4aahdaHXzAfTJ5tfTEuviw8xXhOsl=s64",
      "userId": "11132753723286663537"
     },
     "user_tz": -480
    },
    "id": "FHt-xsa0GJ_G"
   },
   "outputs": [],
   "source": [
    "tokenizer_config = tokenizer.get_config()"
   ]
  },
  {
   "cell_type": "code",
   "execution_count": 29,
   "metadata": {
    "colab": {
     "base_uri": "https://localhost:8080/",
     "height": 381
    },
    "executionInfo": {
     "elapsed": 25,
     "status": "ok",
     "timestamp": 1623171298604,
     "user": {
      "displayName": "Raymond Ngiam",
      "photoUrl": "https://lh3.googleusercontent.com/a-/AOh14GjyeB8nVwl4aahdaHXzAfTJ5tfTEuviw8xXhOsl=s64",
      "userId": "11132753723286663537"
     },
     "user_tz": -480
    },
    "id": "SXWL4z4qHwk5",
    "outputId": "721a3a08-2375-4fb6-8e7e-4cdc7989e058"
   },
   "outputs": [
    {
     "name": "stdout",
     "output_type": "stream",
     "text": [
      "Word count for top 10 highest frequency characters:\n"
     ]
    },
    {
     "data": {
      "text/html": [
       "<div>\n",
       "<style scoped>\n",
       "    .dataframe tbody tr th:only-of-type {\n",
       "        vertical-align: middle;\n",
       "    }\n",
       "\n",
       "    .dataframe tbody tr th {\n",
       "        vertical-align: top;\n",
       "    }\n",
       "\n",
       "    .dataframe thead th {\n",
       "        text-align: right;\n",
       "    }\n",
       "</style>\n",
       "<table border=\"1\" class=\"dataframe\">\n",
       "  <thead>\n",
       "    <tr style=\"text-align: right;\">\n",
       "      <th></th>\n",
       "      <th>char</th>\n",
       "      <th>count</th>\n",
       "    </tr>\n",
       "  </thead>\n",
       "  <tbody>\n",
       "    <tr>\n",
       "      <th>0</th>\n",
       "      <td>&lt;start&gt;</td>\n",
       "      <td>24089</td>\n",
       "    </tr>\n",
       "    <tr>\n",
       "      <th>3</th>\n",
       "      <td>&lt;end&gt;</td>\n",
       "      <td>24089</td>\n",
       "    </tr>\n",
       "    <tr>\n",
       "      <th>2</th>\n",
       "      <td>。</td>\n",
       "      <td>20327</td>\n",
       "    </tr>\n",
       "    <tr>\n",
       "      <th>15</th>\n",
       "      <td>我</td>\n",
       "      <td>10810</td>\n",
       "    </tr>\n",
       "    <tr>\n",
       "      <th>8</th>\n",
       "      <td>的</td>\n",
       "      <td>7128</td>\n",
       "    </tr>\n",
       "    <tr>\n",
       "      <th>17</th>\n",
       "      <td>了</td>\n",
       "      <td>5208</td>\n",
       "    </tr>\n",
       "    <tr>\n",
       "      <th>4</th>\n",
       "      <td>你</td>\n",
       "      <td>5043</td>\n",
       "    </tr>\n",
       "    <tr>\n",
       "      <th>26</th>\n",
       "      <td>他</td>\n",
       "      <td>4254</td>\n",
       "    </tr>\n",
       "    <tr>\n",
       "      <th>25</th>\n",
       "      <td>？</td>\n",
       "      <td>3548</td>\n",
       "    </tr>\n",
       "    <tr>\n",
       "      <th>18</th>\n",
       "      <td>不</td>\n",
       "      <td>3365</td>\n",
       "    </tr>\n",
       "  </tbody>\n",
       "</table>\n",
       "</div>"
      ],
      "text/plain": [
       "       char  count\n",
       "0   <start>  24089\n",
       "3     <end>  24089\n",
       "2         。  20327\n",
       "15        我  10810\n",
       "8         的   7128\n",
       "17        了   5208\n",
       "4         你   5043\n",
       "26        他   4254\n",
       "25        ？   3548\n",
       "18        不   3365"
      ]
     },
     "execution_count": 29,
     "metadata": {
      "tags": []
     },
     "output_type": "execute_result"
    }
   ],
   "source": [
    "word_count_dict = json.loads(tokenizer_config['word_counts'])\n",
    "df_word_count = pd.DataFrame({'char':word_count_dict.keys(), 'count':word_count_dict.values()})\n",
    "print('Word count for top 10 highest frequency characters:')\n",
    "df_word_count.sort_values(by=['count'],ascending=False).head(10)"
   ]
  },
  {
   "cell_type": "code",
   "execution_count": 30,
   "metadata": {
    "colab": {
     "base_uri": "https://localhost:8080/",
     "height": 381
    },
    "executionInfo": {
     "elapsed": 23,
     "status": "ok",
     "timestamp": 1623171298605,
     "user": {
      "displayName": "Raymond Ngiam",
      "photoUrl": "https://lh3.googleusercontent.com/a-/AOh14GjyeB8nVwl4aahdaHXzAfTJ5tfTEuviw8xXhOsl=s64",
      "userId": "11132753723286663537"
     },
     "user_tz": -480
    },
    "id": "MyF6D3vG5g2L",
    "outputId": "336d21da-2a78-4044-ded7-200c8bdf5329"
   },
   "outputs": [
    {
     "name": "stdout",
     "output_type": "stream",
     "text": [
      "Word count for 10 random samples:\n"
     ]
    },
    {
     "data": {
      "text/html": [
       "<div>\n",
       "<style scoped>\n",
       "    .dataframe tbody tr th:only-of-type {\n",
       "        vertical-align: middle;\n",
       "    }\n",
       "\n",
       "    .dataframe tbody tr th {\n",
       "        vertical-align: top;\n",
       "    }\n",
       "\n",
       "    .dataframe thead th {\n",
       "        text-align: right;\n",
       "    }\n",
       "</style>\n",
       "<table border=\"1\" class=\"dataframe\">\n",
       "  <thead>\n",
       "    <tr style=\"text-align: right;\">\n",
       "      <th></th>\n",
       "      <th>char</th>\n",
       "      <th>count</th>\n",
       "    </tr>\n",
       "  </thead>\n",
       "  <tbody>\n",
       "    <tr>\n",
       "      <th>931</th>\n",
       "      <td>尼</td>\n",
       "      <td>10</td>\n",
       "    </tr>\n",
       "    <tr>\n",
       "      <th>2910</th>\n",
       "      <td>潑</td>\n",
       "      <td>1</td>\n",
       "    </tr>\n",
       "    <tr>\n",
       "      <th>413</th>\n",
       "      <td>鱼</td>\n",
       "      <td>39</td>\n",
       "    </tr>\n",
       "    <tr>\n",
       "      <th>2009</th>\n",
       "      <td>佛</td>\n",
       "      <td>9</td>\n",
       "    </tr>\n",
       "    <tr>\n",
       "      <th>1240</th>\n",
       "      <td>拾</td>\n",
       "      <td>3</td>\n",
       "    </tr>\n",
       "    <tr>\n",
       "      <th>956</th>\n",
       "      <td>择</td>\n",
       "      <td>12</td>\n",
       "    </tr>\n",
       "    <tr>\n",
       "      <th>1936</th>\n",
       "      <td>策</td>\n",
       "      <td>7</td>\n",
       "    </tr>\n",
       "    <tr>\n",
       "      <th>984</th>\n",
       "      <td>袋</td>\n",
       "      <td>22</td>\n",
       "    </tr>\n",
       "    <tr>\n",
       "      <th>2737</th>\n",
       "      <td>磺</td>\n",
       "      <td>1</td>\n",
       "    </tr>\n",
       "    <tr>\n",
       "      <th>225</th>\n",
       "      <td>男</td>\n",
       "      <td>202</td>\n",
       "    </tr>\n",
       "  </tbody>\n",
       "</table>\n",
       "</div>"
      ],
      "text/plain": [
       "     char  count\n",
       "931     尼     10\n",
       "2910    潑      1\n",
       "413     鱼     39\n",
       "2009    佛      9\n",
       "1240    拾      3\n",
       "956     择     12\n",
       "1936    策      7\n",
       "984     袋     22\n",
       "2737    磺      1\n",
       "225     男    202"
      ]
     },
     "execution_count": 30,
     "metadata": {
      "tags": []
     },
     "output_type": "execute_result"
    }
   ],
   "source": [
    "print('Word count for 10 random samples:')\n",
    "df_word_count.sample(10)"
   ]
  },
  {
   "cell_type": "code",
   "execution_count": 31,
   "metadata": {
    "executionInfo": {
     "elapsed": 21,
     "status": "ok",
     "timestamp": 1623171298606,
     "user": {
      "displayName": "Raymond Ngiam",
      "photoUrl": "https://lh3.googleusercontent.com/a-/AOh14GjyeB8nVwl4aahdaHXzAfTJ5tfTEuviw8xXhOsl=s64",
      "userId": "11132753723286663537"
     },
     "user_tz": -480
    },
    "id": "S35HdR9wHSd5"
   },
   "outputs": [],
   "source": [
    "df_chinese_tokenized = df\n",
    "df_chinese_tokenized['chinese_tokenized'] = tokenizer_seq"
   ]
  },
  {
   "cell_type": "code",
   "execution_count": 32,
   "metadata": {
    "colab": {
     "base_uri": "https://localhost:8080/",
     "height": 206
    },
    "executionInfo": {
     "elapsed": 21,
     "status": "ok",
     "timestamp": 1623171298607,
     "user": {
      "displayName": "Raymond Ngiam",
      "photoUrl": "https://lh3.googleusercontent.com/a-/AOh14GjyeB8nVwl4aahdaHXzAfTJ5tfTEuviw8xXhOsl=s64",
      "userId": "11132753723286663537"
     },
     "user_tz": -480
    },
    "id": "pNdQ3UiPHxMw",
    "outputId": "d4c6281e-a042-4bab-d6ff-515c27ce969b"
   },
   "outputs": [
    {
     "data": {
      "text/html": [
       "<div>\n",
       "<style scoped>\n",
       "    .dataframe tbody tr th:only-of-type {\n",
       "        vertical-align: middle;\n",
       "    }\n",
       "\n",
       "    .dataframe tbody tr th {\n",
       "        vertical-align: top;\n",
       "    }\n",
       "\n",
       "    .dataframe thead th {\n",
       "        text-align: right;\n",
       "    }\n",
       "</style>\n",
       "<table border=\"1\" class=\"dataframe\">\n",
       "  <thead>\n",
       "    <tr style=\"text-align: right;\">\n",
       "      <th></th>\n",
       "      <th>english</th>\n",
       "      <th>chinese</th>\n",
       "      <th>english_split</th>\n",
       "      <th>chinese_split</th>\n",
       "      <th>chinese_tokenized</th>\n",
       "    </tr>\n",
       "  </thead>\n",
       "  <tbody>\n",
       "    <tr>\n",
       "      <th>0</th>\n",
       "      <td>Hi .</td>\n",
       "      <td>嗨 。</td>\n",
       "      <td>[Hi, .]</td>\n",
       "      <td>[&lt;start&gt;, 嗨, 。, &lt;end&gt;]</td>\n",
       "      <td>[1, 1924, 3, 2]</td>\n",
       "    </tr>\n",
       "    <tr>\n",
       "      <th>1</th>\n",
       "      <td>Hi .</td>\n",
       "      <td>你好 。</td>\n",
       "      <td>[Hi, .]</td>\n",
       "      <td>[&lt;start&gt;, 你, 好, 。, &lt;end&gt;]</td>\n",
       "      <td>[1, 7, 33, 3, 2]</td>\n",
       "    </tr>\n",
       "    <tr>\n",
       "      <th>2</th>\n",
       "      <td>Run .</td>\n",
       "      <td>你用跑的 。</td>\n",
       "      <td>[Run, .]</td>\n",
       "      <td>[&lt;start&gt;, 你, 用, 跑, 的, 。, &lt;end&gt;]</td>\n",
       "      <td>[1, 7, 95, 397, 5, 3, 2]</td>\n",
       "    </tr>\n",
       "    <tr>\n",
       "      <th>3</th>\n",
       "      <td>Wait !</td>\n",
       "      <td>等等 ！</td>\n",
       "      <td>[Wait, !]</td>\n",
       "      <td>[&lt;start&gt;, 等, 等, ！, &lt;end&gt;]</td>\n",
       "      <td>[1, 208, 208, 160, 2]</td>\n",
       "    </tr>\n",
       "    <tr>\n",
       "      <th>4</th>\n",
       "      <td>Wait !</td>\n",
       "      <td>等一下 ！</td>\n",
       "      <td>[Wait, !]</td>\n",
       "      <td>[&lt;start&gt;, 等, 一, 下, ！, &lt;end&gt;]</td>\n",
       "      <td>[1, 208, 12, 46, 160, 2]</td>\n",
       "    </tr>\n",
       "  </tbody>\n",
       "</table>\n",
       "</div>"
      ],
      "text/plain": [
       "   english  chinese  ...                    chinese_split         chinese_tokenized\n",
       "0    Hi .      嗨 。   ...           [<start>, 嗨, 。, <end>]           [1, 1924, 3, 2]\n",
       "1    Hi .     你好 。   ...        [<start>, 你, 好, 。, <end>]          [1, 7, 33, 3, 2]\n",
       "2   Run .   你用跑的 。   ...  [<start>, 你, 用, 跑, 的, 。, <end>]  [1, 7, 95, 397, 5, 3, 2]\n",
       "3  Wait !     等等 ！   ...        [<start>, 等, 等, ！, <end>]     [1, 208, 208, 160, 2]\n",
       "4  Wait !    等一下 ！   ...     [<start>, 等, 一, 下, ！, <end>]  [1, 208, 12, 46, 160, 2]\n",
       "\n",
       "[5 rows x 5 columns]"
      ]
     },
     "execution_count": 32,
     "metadata": {
      "tags": []
     },
     "output_type": "execute_result"
    }
   ],
   "source": [
    "df_chinese_tokenized.head()"
   ]
  },
  {
   "cell_type": "markdown",
   "metadata": {
    "id": "Qm-iWhSRSkOz"
   },
   "source": [
    "Save the tokenized dataset."
   ]
  },
  {
   "cell_type": "code",
   "execution_count": 33,
   "metadata": {
    "executionInfo": {
     "elapsed": 19,
     "status": "ok",
     "timestamp": 1623171298607,
     "user": {
      "displayName": "Raymond Ngiam",
      "photoUrl": "https://lh3.googleusercontent.com/a-/AOh14GjyeB8nVwl4aahdaHXzAfTJ5tfTEuviw8xXhOsl=s64",
      "userId": "11132753723286663537"
     },
     "user_tz": -480
    },
    "id": "neXC2ZLdRFUg"
   },
   "outputs": [],
   "source": [
    "df_chinese_tokenized.to_json(path.join(googleDrivePathPrefix,'data/cmn-processed-tokenized.json'))"
   ]
  },
  {
   "cell_type": "code",
   "execution_count": 34,
   "metadata": {
    "colab": {
     "base_uri": "https://localhost:8080/",
     "height": 206
    },
    "executionInfo": {
     "elapsed": 948,
     "status": "ok",
     "timestamp": 1623171299537,
     "user": {
      "displayName": "Raymond Ngiam",
      "photoUrl": "https://lh3.googleusercontent.com/a-/AOh14GjyeB8nVwl4aahdaHXzAfTJ5tfTEuviw8xXhOsl=s64",
      "userId": "11132753723286663537"
     },
     "user_tz": -480
    },
    "id": "tufs0F-xSLTd",
    "outputId": "2beed6a3-60c6-4d5b-e24f-2c0bfb804538"
   },
   "outputs": [
    {
     "data": {
      "text/html": [
       "<div>\n",
       "<style scoped>\n",
       "    .dataframe tbody tr th:only-of-type {\n",
       "        vertical-align: middle;\n",
       "    }\n",
       "\n",
       "    .dataframe tbody tr th {\n",
       "        vertical-align: top;\n",
       "    }\n",
       "\n",
       "    .dataframe thead th {\n",
       "        text-align: right;\n",
       "    }\n",
       "</style>\n",
       "<table border=\"1\" class=\"dataframe\">\n",
       "  <thead>\n",
       "    <tr style=\"text-align: right;\">\n",
       "      <th></th>\n",
       "      <th>english</th>\n",
       "      <th>chinese</th>\n",
       "      <th>english_split</th>\n",
       "      <th>chinese_split</th>\n",
       "      <th>chinese_tokenized</th>\n",
       "    </tr>\n",
       "  </thead>\n",
       "  <tbody>\n",
       "    <tr>\n",
       "      <th>0</th>\n",
       "      <td>Hi .</td>\n",
       "      <td>嗨 。</td>\n",
       "      <td>[Hi, .]</td>\n",
       "      <td>[&lt;start&gt;, 嗨, 。, &lt;end&gt;]</td>\n",
       "      <td>[1, 1924, 3, 2]</td>\n",
       "    </tr>\n",
       "    <tr>\n",
       "      <th>1</th>\n",
       "      <td>Hi .</td>\n",
       "      <td>你好 。</td>\n",
       "      <td>[Hi, .]</td>\n",
       "      <td>[&lt;start&gt;, 你, 好, 。, &lt;end&gt;]</td>\n",
       "      <td>[1, 7, 33, 3, 2]</td>\n",
       "    </tr>\n",
       "    <tr>\n",
       "      <th>2</th>\n",
       "      <td>Run .</td>\n",
       "      <td>你用跑的 。</td>\n",
       "      <td>[Run, .]</td>\n",
       "      <td>[&lt;start&gt;, 你, 用, 跑, 的, 。, &lt;end&gt;]</td>\n",
       "      <td>[1, 7, 95, 397, 5, 3, 2]</td>\n",
       "    </tr>\n",
       "    <tr>\n",
       "      <th>3</th>\n",
       "      <td>Wait !</td>\n",
       "      <td>等等 ！</td>\n",
       "      <td>[Wait, !]</td>\n",
       "      <td>[&lt;start&gt;, 等, 等, ！, &lt;end&gt;]</td>\n",
       "      <td>[1, 208, 208, 160, 2]</td>\n",
       "    </tr>\n",
       "    <tr>\n",
       "      <th>4</th>\n",
       "      <td>Wait !</td>\n",
       "      <td>等一下 ！</td>\n",
       "      <td>[Wait, !]</td>\n",
       "      <td>[&lt;start&gt;, 等, 一, 下, ！, &lt;end&gt;]</td>\n",
       "      <td>[1, 208, 12, 46, 160, 2]</td>\n",
       "    </tr>\n",
       "  </tbody>\n",
       "</table>\n",
       "</div>"
      ],
      "text/plain": [
       "   english  chinese  ...                    chinese_split         chinese_tokenized\n",
       "0    Hi .      嗨 。   ...           [<start>, 嗨, 。, <end>]           [1, 1924, 3, 2]\n",
       "1    Hi .     你好 。   ...        [<start>, 你, 好, 。, <end>]          [1, 7, 33, 3, 2]\n",
       "2   Run .   你用跑的 。   ...  [<start>, 你, 用, 跑, 的, 。, <end>]  [1, 7, 95, 397, 5, 3, 2]\n",
       "3  Wait !     等等 ！   ...        [<start>, 等, 等, ！, <end>]     [1, 208, 208, 160, 2]\n",
       "4  Wait !    等一下 ！   ...     [<start>, 等, 一, 下, ！, <end>]  [1, 208, 12, 46, 160, 2]\n",
       "\n",
       "[5 rows x 5 columns]"
      ]
     },
     "execution_count": 34,
     "metadata": {
      "tags": []
     },
     "output_type": "execute_result"
    }
   ],
   "source": [
    "df_reproduced = pd.read_json(path.join(googleDrivePathPrefix,'data/cmn-processed-tokenized.json'))\n",
    "df_reproduced.head()"
   ]
  },
  {
   "cell_type": "markdown",
   "metadata": {
    "id": "nKEr8m4FiZtp"
   },
   "source": [
    "Save tokenizer."
   ]
  },
  {
   "cell_type": "code",
   "execution_count": 37,
   "metadata": {
    "executionInfo": {
     "elapsed": 342,
     "status": "ok",
     "timestamp": 1623171332759,
     "user": {
      "displayName": "Raymond Ngiam",
      "photoUrl": "https://lh3.googleusercontent.com/a-/AOh14GjyeB8nVwl4aahdaHXzAfTJ5tfTEuviw8xXhOsl=s64",
      "userId": "11132753723286663537"
     },
     "user_tz": -480
    },
    "id": "ffEhw39UiZK4"
   },
   "outputs": [],
   "source": [
    "data = tokenizer.to_json()\n",
    "with open(path.join(googleDrivePathPrefix,'data/tokenizer.json'), 'w') as f:\n",
    "          json.dump(data, f)"
   ]
  }
 ],
 "metadata": {
  "colab": {
   "authorship_tag": "ABX9TyNCbA9TZFL09y7OCBjepYyV",
   "collapsed_sections": [],
   "name": "02-Tokenization.ipynb",
   "provenance": []
  },
  "kernelspec": {
   "display_name": "Python 3",
   "language": "python",
   "name": "python3"
  },
  "language_info": {
   "codemirror_mode": {
    "name": "ipython",
    "version": 3
   },
   "file_extension": ".py",
   "mimetype": "text/x-python",
   "name": "python",
   "nbconvert_exporter": "python",
   "pygments_lexer": "ipython3",
   "version": "3.8.8"
  }
 },
 "nbformat": 4,
 "nbformat_minor": 1
}
